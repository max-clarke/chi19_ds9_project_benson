{
 "cells": [
  {
   "cell_type": "code",
   "execution_count": 61,
   "metadata": {},
   "outputs": [],
   "source": [
    "import pandas as pd\n",
    "import numpy as np\n",
    "import matplotlib.pyplot as plt\n",
    "\n",
    "pd.options.display.max_rows = 25\n",
    "\n",
    "FILE = r'data/May18_turnstiledata.csv'\n",
    "df = pd.read_csv(FILE)\n",
    "\n",
    "df.rename(columns={'EXITS                                                               ': 'EXITS'}, inplace=True)\n",
    "df.drop('Unnamed: 0', axis=1, inplace = True)"
   ]
  },
  {
   "cell_type": "code",
   "execution_count": 62,
   "metadata": {},
   "outputs": [],
   "source": [
    "deltas = df.groupby('STATION').diff()\n",
    "deltas.head()\n",
    "\n",
    "df['entry delta'] = deltas['ENTRIES']\n",
    "df['exit delta'] = deltas['EXITS']\n",
    "\n",
    "# drop outliers\n",
    "df = df[df['entry delta'] > -1]\n",
    "df = df[df['entry delta'] < 50000]\n",
    "df = df[df['exit delta'] > -1]\n",
    "df = df[df['exit delta'] < 50000]\n",
    "\n",
    "df_deltas = df.groupby(['STATION', 'DATE', 'TIME'])[['entry delta', 'exit delta']].sum()"
   ]
  },
  {
   "cell_type": "code",
   "execution_count": 63,
   "metadata": {},
   "outputs": [
    {
     "data": {
      "text/plain": [
       "6511"
      ]
     },
     "execution_count": 63,
     "metadata": {},
     "output_type": "execute_result"
    }
   ],
   "source": [
    "len(df_deltas[df_deltas['entry delta'] == 0])"
   ]
  },
  {
   "cell_type": "code",
   "execution_count": 65,
   "metadata": {},
   "outputs": [],
   "source": [
    "\n",
    "# # df_deltas['entry delta'] ==\n",
    "\n",
    "# df_deltas[df_deltas['entry delta'].groupby('STATION').sum() == df_deltas.groupby('STATION').sum()['entry delta'].max()]"
   ]
  },
  {
   "cell_type": "code",
   "execution_count": 66,
   "metadata": {},
   "outputs": [
    {
     "data": {
      "text/html": [
       "<div>\n",
       "<style scoped>\n",
       "    .dataframe tbody tr th:only-of-type {\n",
       "        vertical-align: middle;\n",
       "    }\n",
       "\n",
       "    .dataframe tbody tr th {\n",
       "        vertical-align: top;\n",
       "    }\n",
       "\n",
       "    .dataframe thead th {\n",
       "        text-align: right;\n",
       "    }\n",
       "</style>\n",
       "<table border=\"1\" class=\"dataframe\">\n",
       "  <thead>\n",
       "    <tr style=\"text-align: right;\">\n",
       "      <th></th>\n",
       "      <th>entry delta</th>\n",
       "      <th>exit delta</th>\n",
       "    </tr>\n",
       "    <tr>\n",
       "      <th>STATION</th>\n",
       "      <th></th>\n",
       "      <th></th>\n",
       "    </tr>\n",
       "  </thead>\n",
       "  <tbody>\n",
       "    <tr>\n",
       "      <th>34 ST-PENN STA</th>\n",
       "      <td>1979343.0</td>\n",
       "      <td>1706500.0</td>\n",
       "    </tr>\n",
       "  </tbody>\n",
       "</table>\n",
       "</div>"
      ],
      "text/plain": [
       "                entry delta  exit delta\n",
       "STATION                                \n",
       "34 ST-PENN STA    1979343.0   1706500.0"
      ]
     },
     "execution_count": 66,
     "metadata": {},
     "output_type": "execute_result"
    }
   ],
   "source": [
    "dfstat = df_deltas.groupby('STATION').sum()\n",
    "\n",
    "dfstat[dfstat['entry delta'] == dfstat['entry delta'].max()]"
   ]
  },
  {
   "cell_type": "code",
   "execution_count": 67,
   "metadata": {},
   "outputs": [
    {
     "data": {
      "text/plain": [
       "1979343.0"
      ]
     },
     "execution_count": 67,
     "metadata": {},
     "output_type": "execute_result"
    }
   ],
   "source": [
    "df_deltas.groupby('STATION').sum()['entry delta'].max()"
   ]
  },
  {
   "cell_type": "code",
   "execution_count": 68,
   "metadata": {},
   "outputs": [
    {
     "data": {
      "text/html": [
       "<div>\n",
       "<style scoped>\n",
       "    .dataframe tbody tr th:only-of-type {\n",
       "        vertical-align: middle;\n",
       "    }\n",
       "\n",
       "    .dataframe tbody tr th {\n",
       "        vertical-align: top;\n",
       "    }\n",
       "\n",
       "    .dataframe thead th {\n",
       "        text-align: right;\n",
       "    }\n",
       "</style>\n",
       "<table border=\"1\" class=\"dataframe\">\n",
       "  <thead>\n",
       "    <tr style=\"text-align: right;\">\n",
       "      <th></th>\n",
       "      <th>entry delta</th>\n",
       "      <th>exit delta</th>\n",
       "    </tr>\n",
       "    <tr>\n",
       "      <th>STATION</th>\n",
       "      <th></th>\n",
       "      <th></th>\n",
       "    </tr>\n",
       "  </thead>\n",
       "  <tbody>\n",
       "    <tr>\n",
       "      <th>34 ST-PENN STA</th>\n",
       "      <td>1979343.0</td>\n",
       "      <td>1706500.0</td>\n",
       "    </tr>\n",
       "    <tr>\n",
       "      <th>GRD CNTRL-42 ST</th>\n",
       "      <td>1698187.0</td>\n",
       "      <td>1557830.0</td>\n",
       "    </tr>\n",
       "    <tr>\n",
       "      <th>23 ST</th>\n",
       "      <td>1381964.0</td>\n",
       "      <td>995866.0</td>\n",
       "    </tr>\n",
       "    <tr>\n",
       "      <th>34 ST-HERALD SQ</th>\n",
       "      <td>1362004.0</td>\n",
       "      <td>1249478.0</td>\n",
       "    </tr>\n",
       "    <tr>\n",
       "      <th>14 ST-UNION SQ</th>\n",
       "      <td>1325703.0</td>\n",
       "      <td>1151548.0</td>\n",
       "    </tr>\n",
       "    <tr>\n",
       "      <th>TIMES SQ-42 ST</th>\n",
       "      <td>1236272.0</td>\n",
       "      <td>1170353.0</td>\n",
       "    </tr>\n",
       "    <tr>\n",
       "      <th>FULTON ST</th>\n",
       "      <td>1160554.0</td>\n",
       "      <td>948827.0</td>\n",
       "    </tr>\n",
       "    <tr>\n",
       "      <th>42 ST-PORT AUTH</th>\n",
       "      <td>1111920.0</td>\n",
       "      <td>907777.0</td>\n",
       "    </tr>\n",
       "    <tr>\n",
       "      <th>86 ST</th>\n",
       "      <td>1043569.0</td>\n",
       "      <td>873420.0</td>\n",
       "    </tr>\n",
       "    <tr>\n",
       "      <th>125 ST</th>\n",
       "      <td>933524.0</td>\n",
       "      <td>755827.0</td>\n",
       "    </tr>\n",
       "    <tr>\n",
       "      <th>59 ST COLUMBUS</th>\n",
       "      <td>927469.0</td>\n",
       "      <td>765580.0</td>\n",
       "    </tr>\n",
       "    <tr>\n",
       "      <th>CANAL ST</th>\n",
       "      <td>909825.0</td>\n",
       "      <td>735898.0</td>\n",
       "    </tr>\n",
       "    <tr>\n",
       "      <th>...</th>\n",
       "      <td>...</td>\n",
       "      <td>...</td>\n",
       "    </tr>\n",
       "    <tr>\n",
       "      <th>121 ST</th>\n",
       "      <td>15591.0</td>\n",
       "      <td>6596.0</td>\n",
       "    </tr>\n",
       "    <tr>\n",
       "      <th>AVENUE P</th>\n",
       "      <td>14771.0</td>\n",
       "      <td>1526.0</td>\n",
       "    </tr>\n",
       "    <tr>\n",
       "      <th>E 143/ST MARY'S</th>\n",
       "      <td>12974.0</td>\n",
       "      <td>14598.0</td>\n",
       "    </tr>\n",
       "    <tr>\n",
       "      <th>BEACH 36 ST</th>\n",
       "      <td>12023.0</td>\n",
       "      <td>12431.0</td>\n",
       "    </tr>\n",
       "    <tr>\n",
       "      <th>AQUEDUCT N.COND</th>\n",
       "      <td>11616.0</td>\n",
       "      <td>23547.0</td>\n",
       "    </tr>\n",
       "    <tr>\n",
       "      <th>BEACH 44 ST</th>\n",
       "      <td>9408.0</td>\n",
       "      <td>9964.0</td>\n",
       "    </tr>\n",
       "    <tr>\n",
       "      <th>BEACH 90 ST</th>\n",
       "      <td>7902.0</td>\n",
       "      <td>6345.0</td>\n",
       "    </tr>\n",
       "    <tr>\n",
       "      <th>AVENUE I</th>\n",
       "      <td>7068.0</td>\n",
       "      <td>2699.0</td>\n",
       "    </tr>\n",
       "    <tr>\n",
       "      <th>ROCKAWAY PARK B</th>\n",
       "      <td>6477.0</td>\n",
       "      <td>9462.0</td>\n",
       "    </tr>\n",
       "    <tr>\n",
       "      <th>BEACH 98 ST</th>\n",
       "      <td>4621.0</td>\n",
       "      <td>4653.0</td>\n",
       "    </tr>\n",
       "    <tr>\n",
       "      <th>BROAD CHANNEL</th>\n",
       "      <td>3390.0</td>\n",
       "      <td>731.0</td>\n",
       "    </tr>\n",
       "    <tr>\n",
       "      <th>BEACH 105 ST</th>\n",
       "      <td>2335.0</td>\n",
       "      <td>2805.0</td>\n",
       "    </tr>\n",
       "  </tbody>\n",
       "</table>\n",
       "<p>375 rows × 2 columns</p>\n",
       "</div>"
      ],
      "text/plain": [
       "                 entry delta  exit delta\n",
       "STATION                                 \n",
       "34 ST-PENN STA     1979343.0   1706500.0\n",
       "GRD CNTRL-42 ST    1698187.0   1557830.0\n",
       "23 ST              1381964.0    995866.0\n",
       "34 ST-HERALD SQ    1362004.0   1249478.0\n",
       "14 ST-UNION SQ     1325703.0   1151548.0\n",
       "TIMES SQ-42 ST     1236272.0   1170353.0\n",
       "FULTON ST          1160554.0    948827.0\n",
       "42 ST-PORT AUTH    1111920.0    907777.0\n",
       "86 ST              1043569.0    873420.0\n",
       "125 ST              933524.0    755827.0\n",
       "59 ST COLUMBUS      927469.0    765580.0\n",
       "CANAL ST            909825.0    735898.0\n",
       "...                      ...         ...\n",
       "121 ST               15591.0      6596.0\n",
       "AVENUE P             14771.0      1526.0\n",
       "E 143/ST MARY'S      12974.0     14598.0\n",
       "BEACH 36 ST          12023.0     12431.0\n",
       "AQUEDUCT N.COND      11616.0     23547.0\n",
       "BEACH 44 ST           9408.0      9964.0\n",
       "BEACH 90 ST           7902.0      6345.0\n",
       "AVENUE I              7068.0      2699.0\n",
       "ROCKAWAY PARK B       6477.0      9462.0\n",
       "BEACH 98 ST           4621.0      4653.0\n",
       "BROAD CHANNEL         3390.0       731.0\n",
       "BEACH 105 ST          2335.0      2805.0\n",
       "\n",
       "[375 rows x 2 columns]"
      ]
     },
     "execution_count": 68,
     "metadata": {},
     "output_type": "execute_result"
    }
   ],
   "source": [
    "dfstat.sort_values('entry delta', ascending=False)"
   ]
  },
  {
   "cell_type": "code",
   "execution_count": null,
   "metadata": {},
   "outputs": [],
   "source": []
  }
 ],
 "metadata": {
  "kernelspec": {
   "display_name": "Python 3",
   "language": "python",
   "name": "python3"
  },
  "language_info": {
   "codemirror_mode": {
    "name": "ipython",
    "version": 3
   },
   "file_extension": ".py",
   "mimetype": "text/x-python",
   "name": "python",
   "nbconvert_exporter": "python",
   "pygments_lexer": "ipython3",
   "version": "3.7.1"
  }
 },
 "nbformat": 4,
 "nbformat_minor": 2
}
