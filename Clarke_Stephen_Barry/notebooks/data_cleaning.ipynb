{
 "cells": [
  {
   "cell_type": "markdown",
   "metadata": {},
   "source": [
    "# Cleaning the Data"
   ]
  },
  {
   "cell_type": "code",
   "execution_count": 1,
   "metadata": {},
   "outputs": [],
   "source": [
    "import pandas as pd\n",
    "import numpy as np\n",
    "import matplotlib.pyplot as plt\n",
    "import pickle\n",
    "\n",
    "%config InlineBackend.figure_format = 'svg'\n",
    "# %matplotlib inline\n",
    "\n",
    "pd.options.display.max_rows = 20"
   ]
  },
  {
   "cell_type": "code",
   "execution_count": 2,
   "metadata": {},
   "outputs": [],
   "source": [
    "# loading the compiled data\n",
    "with open('pickles/may18_turnstiles.pickle', 'rb') as pik:\n",
    "    data = pickle.load(pik)\n",
    "    \n",
    "# resetting incase something weird is going on\n",
    "# df = pd.DataFrame(data) \n",
    "\n",
    "# handle the weird columns\n",
    "df.columns = [column.strip() for column in df.columns]\n",
    "\n",
    "# Generate a Weekday Column\n",
    "df['DATETIME'] = pd.to_datetime(df.DATE +\" \" + df.TIME, format='%m/%d/%Y %H:%M:%S')\n",
    "df['WEEKDAY_NUM'] = [dt.weekday() for dt in df['DATETIME']]\n",
    "\n",
    "weekdays = {\n",
    "    0: 'Monday',\n",
    "    1: 'Tuesday',\n",
    "    2: 'Wednesday',\n",
    "    3: 'Thursday',\n",
    "    4: 'Friday',\n",
    "    5: 'Saturday',\n",
    "    6: 'Sunday'\n",
    "}\n",
    "\n",
    "df['WEEKDAY'] = [weekdays[day] for day in df['WEEKDAY_NUM']]"
   ]
  },
  {
   "cell_type": "markdown",
   "metadata": {},
   "source": [
    "### Aside:\n",
    "\n",
    "At this point we switched notebooks. We have put two notebooks together in as\n",
    "logical a fashion as possible. I left the info about how to load it for my own\n",
    "reference."
   ]
  },
  {
   "cell_type": "code",
   "execution_count": 3,
   "metadata": {},
   "outputs": [
    {
     "data": {
      "text/html": [
       "<div>\n",
       "<style scoped>\n",
       "    .dataframe tbody tr th:only-of-type {\n",
       "        vertical-align: middle;\n",
       "    }\n",
       "\n",
       "    .dataframe tbody tr th {\n",
       "        vertical-align: top;\n",
       "    }\n",
       "\n",
       "    .dataframe thead th {\n",
       "        text-align: right;\n",
       "    }\n",
       "</style>\n",
       "<table border=\"1\" class=\"dataframe\">\n",
       "  <thead>\n",
       "    <tr style=\"text-align: right;\">\n",
       "      <th></th>\n",
       "      <th>C/A</th>\n",
       "      <th>UNIT</th>\n",
       "      <th>SCP</th>\n",
       "      <th>STATION</th>\n",
       "      <th>LINENAME</th>\n",
       "      <th>DIVISION</th>\n",
       "      <th>DATE</th>\n",
       "      <th>TIME</th>\n",
       "      <th>DESC</th>\n",
       "      <th>ENTRIES</th>\n",
       "      <th>EXITS</th>\n",
       "      <th>DATETIME</th>\n",
       "      <th>WEEKDAY_NUM</th>\n",
       "      <th>WEEKDAY</th>\n",
       "    </tr>\n",
       "  </thead>\n",
       "  <tbody>\n",
       "    <tr>\n",
       "      <th>0</th>\n",
       "      <td>A002</td>\n",
       "      <td>R051</td>\n",
       "      <td>02-00-00</td>\n",
       "      <td>59 ST</td>\n",
       "      <td>NQR456W</td>\n",
       "      <td>BMT</td>\n",
       "      <td>05/19/2018</td>\n",
       "      <td>00:00:00</td>\n",
       "      <td>REGULAR</td>\n",
       "      <td>6625470</td>\n",
       "      <td>2245312</td>\n",
       "      <td>2018-05-19 00:00:00</td>\n",
       "      <td>5</td>\n",
       "      <td>Saturday</td>\n",
       "    </tr>\n",
       "    <tr>\n",
       "      <th>1</th>\n",
       "      <td>A002</td>\n",
       "      <td>R051</td>\n",
       "      <td>02-00-00</td>\n",
       "      <td>59 ST</td>\n",
       "      <td>NQR456W</td>\n",
       "      <td>BMT</td>\n",
       "      <td>05/19/2018</td>\n",
       "      <td>04:00:00</td>\n",
       "      <td>REGULAR</td>\n",
       "      <td>6625494</td>\n",
       "      <td>2245314</td>\n",
       "      <td>2018-05-19 04:00:00</td>\n",
       "      <td>5</td>\n",
       "      <td>Saturday</td>\n",
       "    </tr>\n",
       "    <tr>\n",
       "      <th>2</th>\n",
       "      <td>A002</td>\n",
       "      <td>R051</td>\n",
       "      <td>02-00-00</td>\n",
       "      <td>59 ST</td>\n",
       "      <td>NQR456W</td>\n",
       "      <td>BMT</td>\n",
       "      <td>05/19/2018</td>\n",
       "      <td>08:00:00</td>\n",
       "      <td>REGULAR</td>\n",
       "      <td>6625514</td>\n",
       "      <td>2245338</td>\n",
       "      <td>2018-05-19 08:00:00</td>\n",
       "      <td>5</td>\n",
       "      <td>Saturday</td>\n",
       "    </tr>\n",
       "    <tr>\n",
       "      <th>3</th>\n",
       "      <td>A002</td>\n",
       "      <td>R051</td>\n",
       "      <td>02-00-00</td>\n",
       "      <td>59 ST</td>\n",
       "      <td>NQR456W</td>\n",
       "      <td>BMT</td>\n",
       "      <td>05/19/2018</td>\n",
       "      <td>12:00:00</td>\n",
       "      <td>REGULAR</td>\n",
       "      <td>6625595</td>\n",
       "      <td>2245415</td>\n",
       "      <td>2018-05-19 12:00:00</td>\n",
       "      <td>5</td>\n",
       "      <td>Saturday</td>\n",
       "    </tr>\n",
       "    <tr>\n",
       "      <th>4</th>\n",
       "      <td>A002</td>\n",
       "      <td>R051</td>\n",
       "      <td>02-00-00</td>\n",
       "      <td>59 ST</td>\n",
       "      <td>NQR456W</td>\n",
       "      <td>BMT</td>\n",
       "      <td>05/19/2018</td>\n",
       "      <td>16:00:00</td>\n",
       "      <td>REGULAR</td>\n",
       "      <td>6625791</td>\n",
       "      <td>2245481</td>\n",
       "      <td>2018-05-19 16:00:00</td>\n",
       "      <td>5</td>\n",
       "      <td>Saturday</td>\n",
       "    </tr>\n",
       "  </tbody>\n",
       "</table>\n",
       "</div>"
      ],
      "text/plain": [
       "    C/A  UNIT       SCP STATION LINENAME DIVISION        DATE      TIME  \\\n",
       "0  A002  R051  02-00-00   59 ST  NQR456W      BMT  05/19/2018  00:00:00   \n",
       "1  A002  R051  02-00-00   59 ST  NQR456W      BMT  05/19/2018  04:00:00   \n",
       "2  A002  R051  02-00-00   59 ST  NQR456W      BMT  05/19/2018  08:00:00   \n",
       "3  A002  R051  02-00-00   59 ST  NQR456W      BMT  05/19/2018  12:00:00   \n",
       "4  A002  R051  02-00-00   59 ST  NQR456W      BMT  05/19/2018  16:00:00   \n",
       "\n",
       "      DESC  ENTRIES    EXITS            DATETIME  WEEKDAY_NUM   WEEKDAY  \n",
       "0  REGULAR  6625470  2245312 2018-05-19 00:00:00            5  Saturday  \n",
       "1  REGULAR  6625494  2245314 2018-05-19 04:00:00            5  Saturday  \n",
       "2  REGULAR  6625514  2245338 2018-05-19 08:00:00            5  Saturday  \n",
       "3  REGULAR  6625595  2245415 2018-05-19 12:00:00            5  Saturday  \n",
       "4  REGULAR  6625791  2245481 2018-05-19 16:00:00            5  Saturday  "
      ]
     },
     "execution_count": 3,
     "metadata": {},
     "output_type": "execute_result"
    }
   ],
   "source": [
    "# ==============================\n",
    "# loading the file with weekdays\n",
    "# ==============================\n",
    "\n",
    "FILE = r'pickles/with_weekdays.pickle'\n",
    "\n",
    "with open(FILE, 'rb') as read_file:\n",
    "    df = pickle.load(read_file)\n",
    "\n",
    "df.head()"
   ]
  },
  {
   "cell_type": "code",
   "execution_count": 4,
   "metadata": {},
   "outputs": [],
   "source": [
    "# Drop any duplicate entries, those being ones that occur at the same turnstile\n",
    "# and the same time\n",
    "\n",
    "turnstile = [\"C/A\", \"UNIT\", \"SCP\", \"STATION\"]\n",
    "\n",
    "df.drop_duplicates(subset=turnstile+[\"DATETIME\"], inplace=True)\n",
    "df = df.sort_values(turnstile + ['DATE', 'WEEKDAY', 'TIME']) \n",
    "df[['PREV_TIME','PREV_ENTRIES','PREV_EXITS']] = \\\n",
    "                            (df.groupby(turnstile)['TIME','ENTRIES','EXITS']\\\n",
    "                            .transform(lambda x: x.shift(1)))"
   ]
  },
  {
   "cell_type": "code",
   "execution_count": 5,
   "metadata": {},
   "outputs": [
    {
     "data": {
      "text/html": [
       "<div>\n",
       "<style scoped>\n",
       "    .dataframe tbody tr th:only-of-type {\n",
       "        vertical-align: middle;\n",
       "    }\n",
       "\n",
       "    .dataframe tbody tr th {\n",
       "        vertical-align: top;\n",
       "    }\n",
       "\n",
       "    .dataframe thead th {\n",
       "        text-align: right;\n",
       "    }\n",
       "</style>\n",
       "<table border=\"1\" class=\"dataframe\">\n",
       "  <thead>\n",
       "    <tr style=\"text-align: right;\">\n",
       "      <th></th>\n",
       "      <th>C/A</th>\n",
       "      <th>UNIT</th>\n",
       "      <th>SCP</th>\n",
       "      <th>STATION</th>\n",
       "      <th>DATETIME</th>\n",
       "      <th>ENTRY_COUNTS</th>\n",
       "      <th>EXIT_COUNTS</th>\n",
       "    </tr>\n",
       "  </thead>\n",
       "  <tbody>\n",
       "    <tr>\n",
       "      <th>0</th>\n",
       "      <td>A002</td>\n",
       "      <td>R051</td>\n",
       "      <td>02-00-00</td>\n",
       "      <td>59 ST</td>\n",
       "      <td>2018-04-28 00:00:00</td>\n",
       "      <td>NaN</td>\n",
       "      <td>NaN</td>\n",
       "    </tr>\n",
       "    <tr>\n",
       "      <th>1</th>\n",
       "      <td>A002</td>\n",
       "      <td>R051</td>\n",
       "      <td>02-00-00</td>\n",
       "      <td>59 ST</td>\n",
       "      <td>2018-04-28 04:00:00</td>\n",
       "      <td>17.0</td>\n",
       "      <td>1.0</td>\n",
       "    </tr>\n",
       "    <tr>\n",
       "      <th>2</th>\n",
       "      <td>A002</td>\n",
       "      <td>R051</td>\n",
       "      <td>02-00-00</td>\n",
       "      <td>59 ST</td>\n",
       "      <td>2018-04-28 08:00:00</td>\n",
       "      <td>16.0</td>\n",
       "      <td>33.0</td>\n",
       "    </tr>\n",
       "    <tr>\n",
       "      <th>3</th>\n",
       "      <td>A002</td>\n",
       "      <td>R051</td>\n",
       "      <td>02-00-00</td>\n",
       "      <td>59 ST</td>\n",
       "      <td>2018-04-28 12:00:00</td>\n",
       "      <td>81.0</td>\n",
       "      <td>92.0</td>\n",
       "    </tr>\n",
       "    <tr>\n",
       "      <th>4</th>\n",
       "      <td>A002</td>\n",
       "      <td>R051</td>\n",
       "      <td>02-00-00</td>\n",
       "      <td>59 ST</td>\n",
       "      <td>2018-04-28 16:00:00</td>\n",
       "      <td>214.0</td>\n",
       "      <td>60.0</td>\n",
       "    </tr>\n",
       "  </tbody>\n",
       "</table>\n",
       "</div>"
      ],
      "text/plain": [
       "    C/A  UNIT       SCP STATION            DATETIME  ENTRY_COUNTS  EXIT_COUNTS\n",
       "0  A002  R051  02-00-00   59 ST 2018-04-28 00:00:00           NaN          NaN\n",
       "1  A002  R051  02-00-00   59 ST 2018-04-28 04:00:00          17.0          1.0\n",
       "2  A002  R051  02-00-00   59 ST 2018-04-28 08:00:00          16.0         33.0\n",
       "3  A002  R051  02-00-00   59 ST 2018-04-28 12:00:00          81.0         92.0\n",
       "4  A002  R051  02-00-00   59 ST 2018-04-28 16:00:00         214.0         60.0"
      ]
     },
     "execution_count": 5,
     "metadata": {},
     "output_type": "execute_result"
    }
   ],
   "source": [
    "# Defines functions that allow us to cut off rows at an arbitrary cutoff.\n",
    "# The arbitrary cutoff allows us to expirement and see which one makes the\n",
    "# most sense.\n",
    "#\n",
    "# Negative values could still be useful. It could be that they were just\n",
    "# just counting backwards. Therefore, we defined negatives to be positive.\n",
    "\n",
    "def get_entry_counts(row, max_counter):\n",
    "    counter = row[\"ENTRIES\"] - row[\"PREV_ENTRIES\"]\n",
    "    if counter < 0:\n",
    "        counter = -counter\n",
    "    if counter > max_counter: \n",
    "        return 0 \n",
    "    return counter\n",
    "\n",
    "def get_exit_counts(row, max_counter):\n",
    "    counter = row[\"EXITS\"] - row[\"PREV_EXITS\"]\n",
    "    if counter < 0:\n",
    "        counter = -counter\n",
    "    if counter > max_counter:\n",
    "        return 0\n",
    "    return counter\n",
    "\n",
    "# cut off any entries and exits that were greater than 4000\n",
    "# took difference between consecutive counts\n",
    "\n",
    "df[\"ENTRY_COUNTS\"] = df.apply(get_entry_counts, axis=1, max_counter=4000) \n",
    "df[\"EXIT_COUNTS\"] = df.apply(get_exit_counts, axis=1, max_counter=4000)\n",
    "\n",
    "#  let's see how it did!\n",
    "df[turnstile + ['DATETIME', 'ENTRY_COUNTS', 'EXIT_COUNTS']].head()"
   ]
  },
  {
   "cell_type": "code",
   "execution_count": 6,
   "metadata": {},
   "outputs": [
    {
     "data": {
      "text/html": [
       "<div>\n",
       "<style scoped>\n",
       "    .dataframe tbody tr th:only-of-type {\n",
       "        vertical-align: middle;\n",
       "    }\n",
       "\n",
       "    .dataframe tbody tr th {\n",
       "        vertical-align: top;\n",
       "    }\n",
       "\n",
       "    .dataframe thead th {\n",
       "        text-align: right;\n",
       "    }\n",
       "</style>\n",
       "<table border=\"1\" class=\"dataframe\">\n",
       "  <thead>\n",
       "    <tr style=\"text-align: right;\">\n",
       "      <th></th>\n",
       "      <th>C/A</th>\n",
       "      <th>UNIT</th>\n",
       "      <th>SCP</th>\n",
       "      <th>STATION</th>\n",
       "      <th>TOTAL_ACTIVITY</th>\n",
       "    </tr>\n",
       "  </thead>\n",
       "  <tbody>\n",
       "    <tr>\n",
       "      <th>0</th>\n",
       "      <td>A002</td>\n",
       "      <td>R051</td>\n",
       "      <td>02-00-00</td>\n",
       "      <td>59 ST</td>\n",
       "      <td>NaN</td>\n",
       "    </tr>\n",
       "    <tr>\n",
       "      <th>1</th>\n",
       "      <td>A002</td>\n",
       "      <td>R051</td>\n",
       "      <td>02-00-00</td>\n",
       "      <td>59 ST</td>\n",
       "      <td>18.0</td>\n",
       "    </tr>\n",
       "    <tr>\n",
       "      <th>2</th>\n",
       "      <td>A002</td>\n",
       "      <td>R051</td>\n",
       "      <td>02-00-00</td>\n",
       "      <td>59 ST</td>\n",
       "      <td>49.0</td>\n",
       "    </tr>\n",
       "    <tr>\n",
       "      <th>3</th>\n",
       "      <td>A002</td>\n",
       "      <td>R051</td>\n",
       "      <td>02-00-00</td>\n",
       "      <td>59 ST</td>\n",
       "      <td>173.0</td>\n",
       "    </tr>\n",
       "    <tr>\n",
       "      <th>4</th>\n",
       "      <td>A002</td>\n",
       "      <td>R051</td>\n",
       "      <td>02-00-00</td>\n",
       "      <td>59 ST</td>\n",
       "      <td>274.0</td>\n",
       "    </tr>\n",
       "  </tbody>\n",
       "</table>\n",
       "</div>"
      ],
      "text/plain": [
       "    C/A  UNIT       SCP STATION  TOTAL_ACTIVITY\n",
       "0  A002  R051  02-00-00   59 ST             NaN\n",
       "1  A002  R051  02-00-00   59 ST            18.0\n",
       "2  A002  R051  02-00-00   59 ST            49.0\n",
       "3  A002  R051  02-00-00   59 ST           173.0\n",
       "4  A002  R051  02-00-00   59 ST           274.0"
      ]
     },
     "execution_count": 6,
     "metadata": {},
     "output_type": "execute_result"
    }
   ],
   "source": [
    "# define total activity (entry + exit) field\n",
    "df['TOTAL_ACTIVITY'] = df['ENTRY_COUNTS'] + df['EXIT_COUNTS']\n",
    "df[turnstile + ['TOTAL_ACTIVITY']].head()"
   ]
  },
  {
   "cell_type": "code",
   "execution_count": 7,
   "metadata": {},
   "outputs": [
    {
     "data": {
      "text/plain": [
       "Index(['C/A', 'UNIT', 'SCP', 'STATION', 'DIVISION', 'DATE', 'DESC', 'ENTRIES',\n",
       "       'EXITS', 'DATETIME', 'WEEKDAY', 'ENTRY_COUNTS', 'EXIT_COUNTS',\n",
       "       'TOTAL_ACTIVITY'],\n",
       "      dtype='object')"
      ]
     },
     "execution_count": 7,
     "metadata": {},
     "output_type": "execute_result"
    }
   ],
   "source": [
    "# drop extraneous columns to save space\n",
    "\n",
    "df.drop(['TIME', 'WEEKDAY_NUM', 'LINENAME', 'PREV_TIME'], axis= 1, inplace=True)\n",
    "df.drop(['PREV_ENTRIES', 'PREV_EXITS'], axis=1, inplace=True)\n",
    "df.columns"
   ]
  },
  {
   "cell_type": "code",
   "execution_count": 8,
   "metadata": {},
   "outputs": [
    {
     "data": {
      "text/plain": [
       "788761"
      ]
     },
     "execution_count": 8,
     "metadata": {},
     "output_type": "execute_result"
    }
   ],
   "source": [
    "# How many rows are there?\n",
    "len(df)"
   ]
  },
  {
   "cell_type": "code",
   "execution_count": 9,
   "metadata": {},
   "outputs": [
    {
     "data": {
      "text/plain": [
       "117755"
      ]
     },
     "execution_count": 9,
     "metadata": {},
     "output_type": "execute_result"
    }
   ],
   "source": [
    "# How many rows were affected by our 4000 total threshold?\n",
    "len(df[df['ENTRY_COUNTS'] == 0])"
   ]
  },
  {
   "cell_type": "markdown",
   "metadata": {},
   "source": [
    "## Saving the data for later"
   ]
  },
  {
   "cell_type": "code",
   "execution_count": 10,
   "metadata": {},
   "outputs": [],
   "source": [
    "with open('pickles/may_2018_with_counts.pickle', 'wb') as to_write:\n",
    "    pickle.dump(df, to_write)"
   ]
  }
 ],
 "metadata": {
  "kernelspec": {
   "display_name": "Python 3",
   "language": "python",
   "name": "python3"
  },
  "language_info": {
   "codemirror_mode": {
    "name": "ipython",
    "version": 3
   },
   "file_extension": ".py",
   "mimetype": "text/x-python",
   "name": "python",
   "nbconvert_exporter": "python",
   "pygments_lexer": "ipython3",
   "version": "3.7.1"
  },
  "latex_envs": {
   "LaTeX_envs_menu_present": true,
   "autoclose": false,
   "autocomplete": true,
   "bibliofile": "biblio.bib",
   "cite_by": "apalike",
   "current_citInitial": 1,
   "eqLabelWithNumbers": true,
   "eqNumInitial": 1,
   "hotkeys": {
    "equation": "Ctrl-E",
    "itemize": "Ctrl-I"
   },
   "labels_anchors": false,
   "latex_user_defs": false,
   "report_style_numbering": false,
   "user_envs_cfg": false
  }
 },
 "nbformat": 4,
 "nbformat_minor": 2
}
