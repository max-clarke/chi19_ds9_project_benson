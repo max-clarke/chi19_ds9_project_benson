{
 "cells": [
  {
   "cell_type": "code",
   "execution_count": 1,
   "metadata": {},
   "outputs": [],
   "source": [
    "import pandas as pd\n",
    "import numpy as np\n",
    "import matplotlib.pyplot as plt\n",
    "import pickle\n",
    "import seaborn as sns\n",
    "sns.set_palette('cubehelix')\n",
    "pd.options.display.max_rows = 25"
   ]
  },
  {
   "cell_type": "code",
   "execution_count": 3,
   "metadata": {},
   "outputs": [],
   "source": [
    "with open('pickles/may_2018_with_counts.pickle','rb') as read_file:\n",
    "    may18_turnstiles = pickle.load(read_file)"
   ]
  },
  {
   "cell_type": "markdown",
   "metadata": {},
   "source": [
    "## Bar plots showing total exits and entries at MTA stops in May 2018"
   ]
  },
  {
   "cell_type": "code",
   "execution_count": 4,
   "metadata": {},
   "outputs": [],
   "source": [
    "#create data frams for both daily exits and entries\n",
    "#Entries\n",
    "may18_turnstiles_daily_entries = may18_turnstiles.groupby([\"C/A\", \"UNIT\", \"SCP\", \"STATION\", \"DATE\"])\\\n",
    ".ENTRIES.first().reset_index()\n",
    "\n",
    "may18_turnstiles_daily_entries[[\"PREV_DATE\", \"PREV_ENTRIES\"]] = (may18_turnstiles_daily_entries\n",
    "                                                       .groupby([\"C/A\", \"UNIT\", \"SCP\", \"STATION\"])[\"DATE\", \"ENTRIES\"]\n",
    "                                                       .transform(lambda grp: grp.shift(1)))\n",
    "def get_daily_entry_counts(row, max_counter):\n",
    "    counter = row[\"ENTRIES\"] - row[\"PREV_ENTRIES\"]\n",
    "    if counter < 0:\n",
    "        counter = -counter\n",
    "    if counter > max_counter:\n",
    "        #print(row[\"ENTRIES\"], row[\"PREV_ENTRIES\"])\n",
    "        return 0\n",
    "    return counter\n",
    "\n",
    "may18_turnstiles_daily_entries[\"DAILY_ENTRIES\"] = may18_turnstiles_daily_entries.apply(get_daily_entry_counts, \n",
    "                                                                                       axis=1, max_counter=1000000) \n",
    "may18_turnstiles_daily_entries = may18_turnstiles_daily_entries.dropna()"
   ]
  },
  {
   "cell_type": "code",
   "execution_count": 5,
   "metadata": {},
   "outputs": [],
   "source": [
    "#exits\n",
    "may18_turnstiles_daily_exits = may18_turnstiles.groupby([\"C/A\", \"UNIT\", \"SCP\", \"STATION\", \"DATE\"])\\\n",
    ".EXITS.first().reset_index()\n",
    "\n",
    "may18_turnstiles_daily_exits[[\"PREV_DATE\", \"PREV_EXITS\"]] = (may18_turnstiles_daily_exits\n",
    "                                                       .groupby([\"C/A\", \"UNIT\", \"SCP\", \"STATION\"])[\"DATE\", \"EXITS\"]\n",
    "                                                       .transform(lambda grp: grp.shift(1)))\n",
    "def get_daily_exit_counts(row, max_counter):\n",
    "    counter = row[\"EXITS\"] - row[\"PREV_EXITS\"]\n",
    "    if counter < 0:\n",
    "        counter = -counter\n",
    "    if counter > max_counter:\n",
    "        return 0\n",
    "    return counter\n",
    "may18_turnstiles_daily_exits[\"DAILY_EXITS\"] = may18_turnstiles_daily_exits.apply(get_daily_exit_counts, \n",
    "                                                                                 axis=1, max_counter=1000000) \n",
    "\n",
    "may18_turnstiles_daily_exits = may18_turnstiles_daily_exits.dropna()"
   ]
  },
  {
   "cell_type": "code",
   "execution_count": 6,
   "metadata": {},
   "outputs": [
    {
     "data": {
      "text/html": [
       "<div>\n",
       "<style scoped>\n",
       "    .dataframe tbody tr th:only-of-type {\n",
       "        vertical-align: middle;\n",
       "    }\n",
       "\n",
       "    .dataframe tbody tr th {\n",
       "        vertical-align: top;\n",
       "    }\n",
       "\n",
       "    .dataframe thead th {\n",
       "        text-align: right;\n",
       "    }\n",
       "</style>\n",
       "<table border=\"1\" class=\"dataframe\">\n",
       "  <thead>\n",
       "    <tr style=\"text-align: right;\">\n",
       "      <th></th>\n",
       "      <th>STATION</th>\n",
       "      <th>ENTRIES</th>\n",
       "      <th>PREV_ENTRIES</th>\n",
       "      <th>TTL_ENTRIES_MONTH</th>\n",
       "    </tr>\n",
       "  </thead>\n",
       "  <tbody>\n",
       "    <tr>\n",
       "      <th>59</th>\n",
       "      <td>34 ST-PENN STA</td>\n",
       "      <td>107350374918</td>\n",
       "      <td>1.073462e+11</td>\n",
       "      <td>4481073.0</td>\n",
       "    </tr>\n",
       "    <tr>\n",
       "      <th>230</th>\n",
       "      <td>GRD CNTRL-42 ST</td>\n",
       "      <td>41141923989</td>\n",
       "      <td>4.114107e+10</td>\n",
       "      <td>3501329.0</td>\n",
       "    </tr>\n",
       "    <tr>\n",
       "      <th>57</th>\n",
       "      <td>34 ST-HERALD SQ</td>\n",
       "      <td>151184268460</td>\n",
       "      <td>1.511821e+11</td>\n",
       "      <td>3280477.0</td>\n",
       "    </tr>\n",
       "    <tr>\n",
       "      <th>255</th>\n",
       "      <td>JOURNAL SQUARE</td>\n",
       "      <td>255543748</td>\n",
       "      <td>2.554378e+08</td>\n",
       "      <td>2849193.0</td>\n",
       "    </tr>\n",
       "    <tr>\n",
       "      <th>45</th>\n",
       "      <td>23 ST</td>\n",
       "      <td>180833457802</td>\n",
       "      <td>1.808308e+11</td>\n",
       "      <td>2836696.0</td>\n",
       "    </tr>\n",
       "    <tr>\n",
       "      <th>14</th>\n",
       "      <td>14 ST-UNION SQ</td>\n",
       "      <td>22477160328</td>\n",
       "      <td>2.235859e+10</td>\n",
       "      <td>2617315.0</td>\n",
       "    </tr>\n",
       "    <tr>\n",
       "      <th>350</th>\n",
       "      <td>TIMES SQ-42 ST</td>\n",
       "      <td>157551986492</td>\n",
       "      <td>1.575511e+11</td>\n",
       "      <td>2510090.0</td>\n",
       "    </tr>\n",
       "    <tr>\n",
       "      <th>65</th>\n",
       "      <td>42 ST-PORT AUTH</td>\n",
       "      <td>204808623100</td>\n",
       "      <td>2.048066e+11</td>\n",
       "      <td>2505629.0</td>\n",
       "    </tr>\n",
       "    <tr>\n",
       "      <th>223</th>\n",
       "      <td>FULTON ST</td>\n",
       "      <td>117058994516</td>\n",
       "      <td>1.170567e+11</td>\n",
       "      <td>2283984.0</td>\n",
       "    </tr>\n",
       "    <tr>\n",
       "      <th>107</th>\n",
       "      <td>86 ST</td>\n",
       "      <td>65644510400</td>\n",
       "      <td>6.564955e+10</td>\n",
       "      <td>2076593.0</td>\n",
       "    </tr>\n",
       "  </tbody>\n",
       "</table>\n",
       "</div>"
      ],
      "text/plain": [
       "             STATION       ENTRIES  PREV_ENTRIES  TTL_ENTRIES_MONTH\n",
       "59    34 ST-PENN STA  107350374918  1.073462e+11          4481073.0\n",
       "230  GRD CNTRL-42 ST   41141923989  4.114107e+10          3501329.0\n",
       "57   34 ST-HERALD SQ  151184268460  1.511821e+11          3280477.0\n",
       "255   JOURNAL SQUARE     255543748  2.554378e+08          2849193.0\n",
       "45             23 ST  180833457802  1.808308e+11          2836696.0\n",
       "14    14 ST-UNION SQ   22477160328  2.235859e+10          2617315.0\n",
       "350   TIMES SQ-42 ST  157551986492  1.575511e+11          2510090.0\n",
       "65   42 ST-PORT AUTH  204808623100  2.048066e+11          2505629.0\n",
       "223        FULTON ST  117058994516  1.170567e+11          2283984.0\n",
       "107            86 ST   65644510400  6.564955e+10          2076593.0"
      ]
     },
     "execution_count": 6,
     "metadata": {},
     "output_type": "execute_result"
    }
   ],
   "source": [
    "#Create a df with a column that sums all turnstyles at a given stop\n",
    "#yielding total entries per month at a given station in May 2018.\n",
    "may18_entries = may18_turnstiles_daily_entries.groupby('STATION').sum().reset_index()\n",
    "may18_entries.rename(columns = {'DAILY_ENTRIES':'TTL_ENTRIES_MONTH'}, inplace = True)\n",
    "may18_entries.sort_values('TTL_ENTRIES_MONTH', ascending = False ).head(10)"
   ]
  },
  {
   "cell_type": "code",
   "execution_count": 7,
   "metadata": {},
   "outputs": [],
   "source": [
    "#Calculate number of entries above which represents the 95 percentile.\n",
    "top_5pcnt_entries_may18 = may18_entries['TTL_ENTRIES_MONTH'].quantile(.95)"
   ]
  },
  {
   "cell_type": "code",
   "execution_count": 9,
   "metadata": {},
   "outputs": [
    {
     "data": {
      "image/png": "[encoded data removed]",
      "text/plain": [
       "<Figure size 432x288 with 1 Axes>"
      ]
     },
     "metadata": {
      "needs_background": "light"
     },
     "output_type": "display_data"
    }
   ],
   "source": [
    "#To create the plots below\n",
    "#Plotting total entries per station in May 18 sorted in ascending order\n",
    "#shows what appears to be a Pareto distribution.\n",
    "plot = sns.barplot(x = 'STATION', y = 'TTL_ENTRIES_MONTH', data = may18_entries.sort_values('TTL_ENTRIES_MONTH', ascending=True), color = 'darkred' )\n",
    "plt.title('Total Entries per MTA Station in May - 2018')\n",
    "plot.set(xlabel = 'Stations - One Tick Per Station', ylabel = 'Total Entries')\n",
    "plot.axes.get_xaxis().set_ticks([])\n",
    "plt.axhline(y = top_5pcnt_entries_may18)\n",
    "plt.text(1.15, 0.3,'95th Percentile', horizontalalignment='center',\n",
    "      verticalalignment='center',\n",
    "      transform=plot.transAxes)\n",
    "plt.savefig('presentation/figures/ttl_entries_perstation_may18.svg')"
   ]
  },
  {
   "cell_type": "code",
   "execution_count": 10,
   "metadata": {},
   "outputs": [],
   "source": [
    "#Zoom in on the stations above the line on the above plot.\n",
    "top_5_may18_df = may18_entries[may18_entries['TTL_ENTRIES_MONTH'] > top_5pcnt_entries_may18]"
   ]
  },
  {
   "cell_type": "code",
   "execution_count": 11,
   "metadata": {},
   "outputs": [
    {
     "data": {
      "image/png": "[encoded data removed]",
      "text/plain": [
       "<Figure size 432x288 with 1 Axes>"
      ]
     },
     "metadata": {
      "needs_background": "light"
     },
     "output_type": "display_data"
    }
   ],
   "source": [
    "plot = sns.barplot(x = 'STATION', y = 'TTL_ENTRIES_MONTH', \n",
    "                   data = top_5_may18_df.sort_values('TTL_ENTRIES_MONTH'), \n",
    "                   color = 'darkred')\n",
    "plt.title('Top %5 Total Entries per MTA Station in May 2018')\n",
    "plt.setp(plot.get_xticklabels(), rotation=90)\n",
    "plt.savefig('presentation/figures/total_entries_May18_5percent.svg')"
   ]
  },
  {
   "cell_type": "code",
   "execution_count": 12,
   "metadata": {},
   "outputs": [
    {
     "data": {
      "text/html": [
       "<div>\n",
       "<style scoped>\n",
       "    .dataframe tbody tr th:only-of-type {\n",
       "        vertical-align: middle;\n",
       "    }\n",
       "\n",
       "    .dataframe tbody tr th {\n",
       "        vertical-align: top;\n",
       "    }\n",
       "\n",
       "    .dataframe thead th {\n",
       "        text-align: right;\n",
       "    }\n",
       "</style>\n",
       "<table border=\"1\" class=\"dataframe\">\n",
       "  <thead>\n",
       "    <tr style=\"text-align: right;\">\n",
       "      <th></th>\n",
       "      <th>STATION</th>\n",
       "      <th>EXITS</th>\n",
       "      <th>PREV_EXITS</th>\n",
       "      <th>TTL_EXITS_MONTH</th>\n",
       "    </tr>\n",
       "  </thead>\n",
       "  <tbody>\n",
       "    <tr>\n",
       "      <th>59</th>\n",
       "      <td>34 ST-PENN STA</td>\n",
       "      <td>79424797426</td>\n",
       "      <td>7.942232e+10</td>\n",
       "      <td>4190124.0</td>\n",
       "    </tr>\n",
       "    <tr>\n",
       "      <th>230</th>\n",
       "      <td>GRD CNTRL-42 ST</td>\n",
       "      <td>58382808240</td>\n",
       "      <td>5.838207e+10</td>\n",
       "      <td>3877164.0</td>\n",
       "    </tr>\n",
       "    <tr>\n",
       "      <th>57</th>\n",
       "      <td>34 ST-HERALD SQ</td>\n",
       "      <td>196034417452</td>\n",
       "      <td>1.960322e+11</td>\n",
       "      <td>2989272.0</td>\n",
       "    </tr>\n",
       "    <tr>\n",
       "      <th>350</th>\n",
       "      <td>TIMES SQ-42 ST</td>\n",
       "      <td>122877247587</td>\n",
       "      <td>1.228756e+11</td>\n",
       "      <td>2947040.0</td>\n",
       "    </tr>\n",
       "    <tr>\n",
       "      <th>255</th>\n",
       "      <td>JOURNAL SQUARE</td>\n",
       "      <td>217766658</td>\n",
       "      <td>2.177572e+08</td>\n",
       "      <td>2694815.0</td>\n",
       "    </tr>\n",
       "    <tr>\n",
       "      <th>14</th>\n",
       "      <td>14 ST-UNION SQ</td>\n",
       "      <td>8044988000</td>\n",
       "      <td>8.043095e+09</td>\n",
       "      <td>2613922.0</td>\n",
       "    </tr>\n",
       "    <tr>\n",
       "      <th>45</th>\n",
       "      <td>23 ST</td>\n",
       "      <td>200737617514</td>\n",
       "      <td>2.007357e+11</td>\n",
       "      <td>2040807.0</td>\n",
       "    </tr>\n",
       "    <tr>\n",
       "      <th>65</th>\n",
       "      <td>42 ST-PORT AUTH</td>\n",
       "      <td>167192064660</td>\n",
       "      <td>1.671903e+11</td>\n",
       "      <td>1892189.0</td>\n",
       "    </tr>\n",
       "    <tr>\n",
       "      <th>223</th>\n",
       "      <td>FULTON ST</td>\n",
       "      <td>117828641330</td>\n",
       "      <td>1.178268e+11</td>\n",
       "      <td>1863740.0</td>\n",
       "    </tr>\n",
       "    <tr>\n",
       "      <th>107</th>\n",
       "      <td>86 ST</td>\n",
       "      <td>69191000705</td>\n",
       "      <td>6.919774e+10</td>\n",
       "      <td>1738058.0</td>\n",
       "    </tr>\n",
       "  </tbody>\n",
       "</table>\n",
       "</div>"
      ],
      "text/plain": [
       "             STATION         EXITS    PREV_EXITS  TTL_EXITS_MONTH\n",
       "59    34 ST-PENN STA   79424797426  7.942232e+10        4190124.0\n",
       "230  GRD CNTRL-42 ST   58382808240  5.838207e+10        3877164.0\n",
       "57   34 ST-HERALD SQ  196034417452  1.960322e+11        2989272.0\n",
       "350   TIMES SQ-42 ST  122877247587  1.228756e+11        2947040.0\n",
       "255   JOURNAL SQUARE     217766658  2.177572e+08        2694815.0\n",
       "14    14 ST-UNION SQ    8044988000  8.043095e+09        2613922.0\n",
       "45             23 ST  200737617514  2.007357e+11        2040807.0\n",
       "65   42 ST-PORT AUTH  167192064660  1.671903e+11        1892189.0\n",
       "223        FULTON ST  117828641330  1.178268e+11        1863740.0\n",
       "107            86 ST   69191000705  6.919774e+10        1738058.0"
      ]
     },
     "execution_count": 12,
     "metadata": {},
     "output_type": "execute_result"
    }
   ],
   "source": [
    "#repeat the above process for exit graphs.\n",
    "may18_exits = may18_turnstiles_daily_exits.groupby('STATION').sum().reset_index()\n",
    "may18_exits.rename(columns = {'DAILY_EXITS':'TTL_EXITS_MONTH'}, inplace = True)\n",
    "may18_exits.sort_values('TTL_EXITS_MONTH', ascending = False ).head(10)"
   ]
  },
  {
   "cell_type": "code",
   "execution_count": 13,
   "metadata": {},
   "outputs": [],
   "source": [
    "top_5pcnt_exits_may18 = may18_exits['TTL_EXITS_MONTH'].quantile(.95)"
   ]
  },
  {
   "cell_type": "code",
   "execution_count": 15,
   "metadata": {},
   "outputs": [
    {
     "data": {
      "image/png": "[encoded data removed]",
      "text/plain": [
       "<Figure size 432x288 with 1 Axes>"
      ]
     },
     "metadata": {
      "needs_background": "light"
     },
     "output_type": "display_data"
    }
   ],
   "source": [
    "plot = sns.barplot(x = 'STATION', y = 'TTL_EXITS_MONTH', data = may18_exits.sort_values('TTL_EXITS_MONTH'), color='cyan')\n",
    "plt.title('Total exits per MTA Station in May 2018')\n",
    "plot.axes.get_xaxis().set_visible(False)\n",
    "plt.axhline(y = top_5pcnt_exits_may18)\n",
    "plt.text(1.15, 0.3,'95th Percentile', horizontalalignment='center',\n",
    "      verticalalignment='center',\n",
    "      transform=plot.transAxes)\n",
    "plt.savefig(\"presentation/figures/total_exits_perstation_May18.svg\")"
   ]
  },
  {
   "cell_type": "code",
   "execution_count": 16,
   "metadata": {},
   "outputs": [],
   "source": [
    "#Like before, zoom in on the stations above the line on the above plot.\n",
    "top_5_may18_df = may18_exits[may18_exits['TTL_EXITS_MONTH'] > top_5pcnt_exits_may18]"
   ]
  },
  {
   "cell_type": "code",
   "execution_count": 17,
   "metadata": {},
   "outputs": [
    {
     "data": {
      "image/png": "[encoded data removed]",
      "text/plain": [
       "<Figure size 432x288 with 1 Axes>"
      ]
     },
     "metadata": {
      "needs_background": "light"
     },
     "output_type": "display_data"
    }
   ],
   "source": [
    "plot = sns.barplot(x = 'STATION', y = 'TTL_EXITS_MONTH', \n",
    "                   data = top_5_may18_df.sort_values('TTL_EXITS_MONTH'), \n",
    "                   color = 'cyan')\n",
    "plt.title('Top %5 Total Exits per MTA Station in May 2018')\n",
    "plt.setp(plot.get_xticklabels(), rotation=90)\n",
    "plt.savefig('presentation/figures/total_exits_May18_5percent.svg')"
   ]
  },
  {
   "cell_type": "code",
   "execution_count": 18,
   "metadata": {},
   "outputs": [],
   "source": [
    "may18_turnstiles_daily = may18_turnstiles.groupby([\"C/A\", \"UNIT\", \"SCP\", \"STATION\", \"DATE\"])\\\n",
    ".EXITS.first().reset_index()"
   ]
  },
  {
   "cell_type": "markdown",
   "metadata": {},
   "source": [
    "## Line plots showing weekly entries of top 1% busiest stations in May 2018"
   ]
  },
  {
   "cell_type": "code",
   "execution_count": 19,
   "metadata": {},
   "outputs": [],
   "source": [
    "top_1pcnt_may18_exits = may18_exits['TTL_EXITS_MONTH'].quantile(.99)"
   ]
  },
  {
   "cell_type": "code",
   "execution_count": 20,
   "metadata": {},
   "outputs": [
    {
     "data": {
      "text/plain": [
       "2760393.4999999977"
      ]
     },
     "execution_count": 20,
     "metadata": {},
     "output_type": "execute_result"
    }
   ],
   "source": [
    "top_1pcnt_may18_exits"
   ]
  },
  {
   "cell_type": "code",
   "execution_count": 21,
   "metadata": {},
   "outputs": [],
   "source": [
    "top_1_may18_exits = may18_exits[may18_exits['TTL_EXITS_MONTH'] > top_1pcnt_may18_exits]"
   ]
  },
  {
   "cell_type": "code",
   "execution_count": 22,
   "metadata": {},
   "outputs": [],
   "source": [
    "may18_exits_df = may18_turnstiles_daily_exits.groupby(['STATION', 'DATE'])['DAILY_EXITS'].sum().reset_index()\n"
   ]
  },
  {
   "cell_type": "code",
   "execution_count": 23,
   "metadata": {},
   "outputs": [
    {
     "data": {
      "text/html": [
       "<div>\n",
       "<style scoped>\n",
       "    .dataframe tbody tr th:only-of-type {\n",
       "        vertical-align: middle;\n",
       "    }\n",
       "\n",
       "    .dataframe tbody tr th {\n",
       "        vertical-align: top;\n",
       "    }\n",
       "\n",
       "    .dataframe thead th {\n",
       "        text-align: right;\n",
       "    }\n",
       "</style>\n",
       "<table border=\"1\" class=\"dataframe\">\n",
       "  <thead>\n",
       "    <tr style=\"text-align: right;\">\n",
       "      <th></th>\n",
       "      <th>STATION</th>\n",
       "      <th>EXITS</th>\n",
       "      <th>PREV_EXITS</th>\n",
       "      <th>TTL_EXITS_MONTH</th>\n",
       "    </tr>\n",
       "  </thead>\n",
       "  <tbody>\n",
       "    <tr>\n",
       "      <th>57</th>\n",
       "      <td>34 ST-HERALD SQ</td>\n",
       "      <td>196034417452</td>\n",
       "      <td>1.960322e+11</td>\n",
       "      <td>2989272.0</td>\n",
       "    </tr>\n",
       "    <tr>\n",
       "      <th>59</th>\n",
       "      <td>34 ST-PENN STA</td>\n",
       "      <td>79424797426</td>\n",
       "      <td>7.942232e+10</td>\n",
       "      <td>4190124.0</td>\n",
       "    </tr>\n",
       "    <tr>\n",
       "      <th>230</th>\n",
       "      <td>GRD CNTRL-42 ST</td>\n",
       "      <td>58382808240</td>\n",
       "      <td>5.838207e+10</td>\n",
       "      <td>3877164.0</td>\n",
       "    </tr>\n",
       "    <tr>\n",
       "      <th>350</th>\n",
       "      <td>TIMES SQ-42 ST</td>\n",
       "      <td>122877247587</td>\n",
       "      <td>1.228756e+11</td>\n",
       "      <td>2947040.0</td>\n",
       "    </tr>\n",
       "  </tbody>\n",
       "</table>\n",
       "</div>"
      ],
      "text/plain": [
       "             STATION         EXITS    PREV_EXITS  TTL_EXITS_MONTH\n",
       "57   34 ST-HERALD SQ  196034417452  1.960322e+11        2989272.0\n",
       "59    34 ST-PENN STA   79424797426  7.942232e+10        4190124.0\n",
       "230  GRD CNTRL-42 ST   58382808240  5.838207e+10        3877164.0\n",
       "350   TIMES SQ-42 ST  122877247587  1.228756e+11        2947040.0"
      ]
     },
     "execution_count": 23,
     "metadata": {},
     "output_type": "execute_result"
    }
   ],
   "source": [
    "top_1_may18_exits"
   ]
  },
  {
   "cell_type": "code",
   "execution_count": 24,
   "metadata": {},
   "outputs": [],
   "source": [
    "top_1perc = (may18_exits_df[(may18_exits_df['STATION']=='34 ST-HERALD SQ') | \n",
    "                            (may18_exits_df['STATION']=='34 ST-PENN STA')|\n",
    "                            (may18_exits_df['STATION']=='GRD CNTRL-42 ST')|\n",
    "                            (may18_exits_df['STATION']=='TIMES SQ-42 ST')])"
   ]
  },
  {
   "cell_type": "code",
   "execution_count": 25,
   "metadata": {},
   "outputs": [
    {
     "data": {
      "text/plain": [
       "[None,\n",
       " None,\n",
       " None,\n",
       " None,\n",
       " None,\n",
       " None,\n",
       " None,\n",
       " None,\n",
       " None,\n",
       " None,\n",
       " None,\n",
       " None,\n",
       " None,\n",
       " None,\n",
       " None,\n",
       " None,\n",
       " None,\n",
       " None,\n",
       " None,\n",
       " None,\n",
       " None,\n",
       " None,\n",
       " None,\n",
       " None,\n",
       " None,\n",
       " None,\n",
       " None,\n",
       " None,\n",
       " None,\n",
       " None,\n",
       " None,\n",
       " None,\n",
       " None,\n",
       " None,\n",
       " None,\n",
       " None,\n",
       " None,\n",
       " None,\n",
       " None,\n",
       " None,\n",
       " None,\n",
       " None,\n",
       " None,\n",
       " None,\n",
       " None,\n",
       " None,\n",
       " None,\n",
       " None,\n",
       " None,\n",
       " None,\n",
       " None,\n",
       " None,\n",
       " None,\n",
       " None]"
      ]
     },
     "execution_count": 25,
     "metadata": {},
     "output_type": "execute_result"
    },
    {
     "data": {
      "image/png": "[encoded data removed]",
      "text/plain": [
       "<Figure size 432x288 with 1 Axes>"
      ]
     },
     "metadata": {
      "needs_background": "light"
     },
     "output_type": "display_data"
    }
   ],
   "source": [
    "plot = sns.lineplot(x='DATE', y = 'DAILY_EXITS', data=top_1perc, hue='STATION')\n",
    "plt.setp(plot.get_xticklabels(), rotation=90)"
   ]
  },
  {
   "cell_type": "markdown",
   "metadata": {},
   "source": [
    "### Fix Outliers - i.e. take out spikes in above graph"
   ]
  },
  {
   "cell_type": "code",
   "execution_count": 26,
   "metadata": {},
   "outputs": [
    {
     "data": {
      "text/html": [
       "<div>\n",
       "<style scoped>\n",
       "    .dataframe tbody tr th:only-of-type {\n",
       "        vertical-align: middle;\n",
       "    }\n",
       "\n",
       "    .dataframe tbody tr th {\n",
       "        vertical-align: top;\n",
       "    }\n",
       "\n",
       "    .dataframe thead th {\n",
       "        text-align: right;\n",
       "    }\n",
       "</style>\n",
       "<table border=\"1\" class=\"dataframe\">\n",
       "  <thead>\n",
       "    <tr style=\"text-align: right;\">\n",
       "      <th></th>\n",
       "      <th>STATION</th>\n",
       "      <th>DATE</th>\n",
       "      <th>DAILY_EXITS</th>\n",
       "    </tr>\n",
       "  </thead>\n",
       "  <tbody>\n",
       "    <tr>\n",
       "      <th>9425</th>\n",
       "      <td>TIMES SQ-42 ST</td>\n",
       "      <td>04/29/2018</td>\n",
       "      <td>69211.0</td>\n",
       "    </tr>\n",
       "    <tr>\n",
       "      <th>9426</th>\n",
       "      <td>TIMES SQ-42 ST</td>\n",
       "      <td>04/30/2018</td>\n",
       "      <td>708722.0</td>\n",
       "    </tr>\n",
       "    <tr>\n",
       "      <th>9427</th>\n",
       "      <td>TIMES SQ-42 ST</td>\n",
       "      <td>05/01/2018</td>\n",
       "      <td>87038.0</td>\n",
       "    </tr>\n",
       "    <tr>\n",
       "      <th>9428</th>\n",
       "      <td>TIMES SQ-42 ST</td>\n",
       "      <td>05/02/2018</td>\n",
       "      <td>95355.0</td>\n",
       "    </tr>\n",
       "    <tr>\n",
       "      <th>9429</th>\n",
       "      <td>TIMES SQ-42 ST</td>\n",
       "      <td>05/03/2018</td>\n",
       "      <td>98829.0</td>\n",
       "    </tr>\n",
       "  </tbody>\n",
       "</table>\n",
       "</div>"
      ],
      "text/plain": [
       "             STATION        DATE  DAILY_EXITS\n",
       "9425  TIMES SQ-42 ST  04/29/2018      69211.0\n",
       "9426  TIMES SQ-42 ST  04/30/2018     708722.0\n",
       "9427  TIMES SQ-42 ST  05/01/2018      87038.0\n",
       "9428  TIMES SQ-42 ST  05/02/2018      95355.0\n",
       "9429  TIMES SQ-42 ST  05/03/2018      98829.0"
      ]
     },
     "execution_count": 26,
     "metadata": {},
     "output_type": "execute_result"
    }
   ],
   "source": [
    "#fix Time Square 4/30 outlier\n",
    "top_1perc[(top_1perc[\"STATION\"]=='TIMES SQ-42 ST')].head()\n"
   ]
  },
  {
   "cell_type": "code",
   "execution_count": 27,
   "metadata": {},
   "outputs": [],
   "source": [
    "top_1perc[(top_1perc[\"STATION\"]=='TIMES SQ-42 ST') & (top_1perc[\"DATE\"]=='04/30/2018')]['DAILY_EXITS']\n",
    "fill_in_exits = top_1perc[(top_1perc[\"STATION\"]=='TIMES SQ-42 ST') & (top_1perc[\"DATE\"]=='04/29/2018')]['DAILY_EXITS']\n",
    "top_1perc.at[9426, 'DAILY_EXITS'] = fill_in_exits"
   ]
  },
  {
   "cell_type": "code",
   "execution_count": 28,
   "metadata": {},
   "outputs": [
    {
     "data": {
      "text/html": [
       "<div>\n",
       "<style scoped>\n",
       "    .dataframe tbody tr th:only-of-type {\n",
       "        vertical-align: middle;\n",
       "    }\n",
       "\n",
       "    .dataframe tbody tr th {\n",
       "        vertical-align: top;\n",
       "    }\n",
       "\n",
       "    .dataframe thead th {\n",
       "        text-align: right;\n",
       "    }\n",
       "</style>\n",
       "<table border=\"1\" class=\"dataframe\">\n",
       "  <thead>\n",
       "    <tr style=\"text-align: right;\">\n",
       "      <th></th>\n",
       "      <th>STATION</th>\n",
       "      <th>DATE</th>\n",
       "      <th>DAILY_EXITS</th>\n",
       "    </tr>\n",
       "  </thead>\n",
       "  <tbody>\n",
       "    <tr>\n",
       "      <th>6227</th>\n",
       "      <td>GRD CNTRL-42 ST</td>\n",
       "      <td>05/16/2018</td>\n",
       "      <td>146501.0</td>\n",
       "    </tr>\n",
       "    <tr>\n",
       "      <th>6228</th>\n",
       "      <td>GRD CNTRL-42 ST</td>\n",
       "      <td>05/17/2018</td>\n",
       "      <td>153833.0</td>\n",
       "    </tr>\n",
       "    <tr>\n",
       "      <th>6229</th>\n",
       "      <td>GRD CNTRL-42 ST</td>\n",
       "      <td>05/18/2018</td>\n",
       "      <td>873517.0</td>\n",
       "    </tr>\n",
       "    <tr>\n",
       "      <th>6230</th>\n",
       "      <td>GRD CNTRL-42 ST</td>\n",
       "      <td>05/19/2018</td>\n",
       "      <td>142024.0</td>\n",
       "    </tr>\n",
       "    <tr>\n",
       "      <th>6231</th>\n",
       "      <td>GRD CNTRL-42 ST</td>\n",
       "      <td>05/20/2018</td>\n",
       "      <td>58097.0</td>\n",
       "    </tr>\n",
       "    <tr>\n",
       "      <th>6232</th>\n",
       "      <td>GRD CNTRL-42 ST</td>\n",
       "      <td>05/21/2018</td>\n",
       "      <td>42317.0</td>\n",
       "    </tr>\n",
       "    <tr>\n",
       "      <th>6233</th>\n",
       "      <td>GRD CNTRL-42 ST</td>\n",
       "      <td>05/22/2018</td>\n",
       "      <td>137313.0</td>\n",
       "    </tr>\n",
       "    <tr>\n",
       "      <th>6234</th>\n",
       "      <td>GRD CNTRL-42 ST</td>\n",
       "      <td>05/23/2018</td>\n",
       "      <td>149542.0</td>\n",
       "    </tr>\n",
       "    <tr>\n",
       "      <th>6235</th>\n",
       "      <td>GRD CNTRL-42 ST</td>\n",
       "      <td>05/24/2018</td>\n",
       "      <td>148558.0</td>\n",
       "    </tr>\n",
       "    <tr>\n",
       "      <th>6236</th>\n",
       "      <td>GRD CNTRL-42 ST</td>\n",
       "      <td>05/25/2018</td>\n",
       "      <td>146736.0</td>\n",
       "    </tr>\n",
       "  </tbody>\n",
       "</table>\n",
       "</div>"
      ],
      "text/plain": [
       "              STATION        DATE  DAILY_EXITS\n",
       "6227  GRD CNTRL-42 ST  05/16/2018     146501.0\n",
       "6228  GRD CNTRL-42 ST  05/17/2018     153833.0\n",
       "6229  GRD CNTRL-42 ST  05/18/2018     873517.0\n",
       "6230  GRD CNTRL-42 ST  05/19/2018     142024.0\n",
       "6231  GRD CNTRL-42 ST  05/20/2018      58097.0\n",
       "6232  GRD CNTRL-42 ST  05/21/2018      42317.0\n",
       "6233  GRD CNTRL-42 ST  05/22/2018     137313.0\n",
       "6234  GRD CNTRL-42 ST  05/23/2018     149542.0\n",
       "6235  GRD CNTRL-42 ST  05/24/2018     148558.0\n",
       "6236  GRD CNTRL-42 ST  05/25/2018     146736.0"
      ]
     },
     "execution_count": 28,
     "metadata": {},
     "output_type": "execute_result"
    }
   ],
   "source": [
    "#Get rid of Grand Central abberation\n",
    "top_1perc[(top_1perc[\"STATION\"]=='GRD CNTRL-42 ST')].tail(10)"
   ]
  },
  {
   "cell_type": "code",
   "execution_count": 29,
   "metadata": {},
   "outputs": [],
   "source": [
    "top_1perc[(top_1perc[\"STATION\"]=='GRD CNTRL-42 ST') & (top_1perc[\"DATE\"]=='05/18/2018')]['DAILY_EXITS']\n",
    "fill_in_exits = top_1perc[(top_1perc[\"STATION\"]=='GRD CNTRL-42 ST') & (top_1perc[\"DATE\"]=='05/17/2018')]['DAILY_EXITS']\n",
    "top_1perc.at[6229, 'DAILY_EXITS'] = fill_in_exits\n"
   ]
  },
  {
   "cell_type": "code",
   "execution_count": 30,
   "metadata": {},
   "outputs": [
    {
     "data": {
      "text/html": [
       "<div>\n",
       "<style scoped>\n",
       "    .dataframe tbody tr th:only-of-type {\n",
       "        vertical-align: middle;\n",
       "    }\n",
       "\n",
       "    .dataframe tbody tr th {\n",
       "        vertical-align: top;\n",
       "    }\n",
       "\n",
       "    .dataframe thead th {\n",
       "        text-align: right;\n",
       "    }\n",
       "</style>\n",
       "<table border=\"1\" class=\"dataframe\">\n",
       "  <thead>\n",
       "    <tr style=\"text-align: right;\">\n",
       "      <th></th>\n",
       "      <th>STATION</th>\n",
       "      <th>DATE</th>\n",
       "      <th>DAILY_EXITS</th>\n",
       "    </tr>\n",
       "  </thead>\n",
       "  <tbody>\n",
       "    <tr>\n",
       "      <th>1556</th>\n",
       "      <td>34 ST-HERALD SQ</td>\n",
       "      <td>05/16/2018</td>\n",
       "      <td>114760.0</td>\n",
       "    </tr>\n",
       "    <tr>\n",
       "      <th>1557</th>\n",
       "      <td>34 ST-HERALD SQ</td>\n",
       "      <td>05/17/2018</td>\n",
       "      <td>115984.0</td>\n",
       "    </tr>\n",
       "    <tr>\n",
       "      <th>1558</th>\n",
       "      <td>34 ST-HERALD SQ</td>\n",
       "      <td>05/18/2018</td>\n",
       "      <td>114873.0</td>\n",
       "    </tr>\n",
       "    <tr>\n",
       "      <th>1559</th>\n",
       "      <td>34 ST-HERALD SQ</td>\n",
       "      <td>05/19/2018</td>\n",
       "      <td>116751.0</td>\n",
       "    </tr>\n",
       "    <tr>\n",
       "      <th>1560</th>\n",
       "      <td>34 ST-HERALD SQ</td>\n",
       "      <td>05/20/2018</td>\n",
       "      <td>55166.0</td>\n",
       "    </tr>\n",
       "    <tr>\n",
       "      <th>1561</th>\n",
       "      <td>34 ST-HERALD SQ</td>\n",
       "      <td>05/21/2018</td>\n",
       "      <td>409605.0</td>\n",
       "    </tr>\n",
       "    <tr>\n",
       "      <th>1562</th>\n",
       "      <td>34 ST-HERALD SQ</td>\n",
       "      <td>05/22/2018</td>\n",
       "      <td>104413.0</td>\n",
       "    </tr>\n",
       "    <tr>\n",
       "      <th>1563</th>\n",
       "      <td>34 ST-HERALD SQ</td>\n",
       "      <td>05/23/2018</td>\n",
       "      <td>112324.0</td>\n",
       "    </tr>\n",
       "    <tr>\n",
       "      <th>1564</th>\n",
       "      <td>34 ST-HERALD SQ</td>\n",
       "      <td>05/24/2018</td>\n",
       "      <td>114990.0</td>\n",
       "    </tr>\n",
       "    <tr>\n",
       "      <th>1565</th>\n",
       "      <td>34 ST-HERALD SQ</td>\n",
       "      <td>05/25/2018</td>\n",
       "      <td>114647.0</td>\n",
       "    </tr>\n",
       "  </tbody>\n",
       "</table>\n",
       "</div>"
      ],
      "text/plain": [
       "              STATION        DATE  DAILY_EXITS\n",
       "1556  34 ST-HERALD SQ  05/16/2018     114760.0\n",
       "1557  34 ST-HERALD SQ  05/17/2018     115984.0\n",
       "1558  34 ST-HERALD SQ  05/18/2018     114873.0\n",
       "1559  34 ST-HERALD SQ  05/19/2018     116751.0\n",
       "1560  34 ST-HERALD SQ  05/20/2018      55166.0\n",
       "1561  34 ST-HERALD SQ  05/21/2018     409605.0\n",
       "1562  34 ST-HERALD SQ  05/22/2018     104413.0\n",
       "1563  34 ST-HERALD SQ  05/23/2018     112324.0\n",
       "1564  34 ST-HERALD SQ  05/24/2018     114990.0\n",
       "1565  34 ST-HERALD SQ  05/25/2018     114647.0"
      ]
     },
     "execution_count": 30,
     "metadata": {},
     "output_type": "execute_result"
    }
   ],
   "source": [
    "top_1perc[(top_1perc[\"STATION\"]=='34 ST-HERALD SQ')].tail(10)"
   ]
  },
  {
   "cell_type": "code",
   "execution_count": 31,
   "metadata": {},
   "outputs": [],
   "source": [
    "top_1perc[(top_1perc[\"STATION\"]=='34 ST-HERALD SQ') & (top_1perc[\"DATE\"]=='05/21/2018')]['DAILY_EXITS']\n",
    "fill_in_exits = top_1perc[(top_1perc[\"STATION\"]=='34 ST-HERALD SQ') & (top_1perc[\"DATE\"]=='05/20/2018')]['DAILY_EXITS']\n",
    "top_1perc.at[1561, 'DAILY_EXITS'] = fill_in_exits"
   ]
  },
  {
   "cell_type": "code",
   "execution_count": 32,
   "metadata": {},
   "outputs": [
    {
     "data": {
      "text/html": [
       "<div>\n",
       "<style scoped>\n",
       "    .dataframe tbody tr th:only-of-type {\n",
       "        vertical-align: middle;\n",
       "    }\n",
       "\n",
       "    .dataframe tbody tr th {\n",
       "        vertical-align: top;\n",
       "    }\n",
       "\n",
       "    .dataframe thead th {\n",
       "        text-align: right;\n",
       "    }\n",
       "</style>\n",
       "<table border=\"1\" class=\"dataframe\">\n",
       "  <thead>\n",
       "    <tr style=\"text-align: right;\">\n",
       "      <th></th>\n",
       "      <th>STATION</th>\n",
       "      <th>DATE</th>\n",
       "      <th>DAILY_EXITS</th>\n",
       "    </tr>\n",
       "  </thead>\n",
       "  <tbody>\n",
       "    <tr>\n",
       "      <th>1593</th>\n",
       "      <td>34 ST-PENN STA</td>\n",
       "      <td>04/29/2018</td>\n",
       "      <td>77105.0</td>\n",
       "    </tr>\n",
       "    <tr>\n",
       "      <th>1594</th>\n",
       "      <td>34 ST-PENN STA</td>\n",
       "      <td>04/30/2018</td>\n",
       "      <td>60443.0</td>\n",
       "    </tr>\n",
       "    <tr>\n",
       "      <th>1595</th>\n",
       "      <td>34 ST-PENN STA</td>\n",
       "      <td>05/01/2018</td>\n",
       "      <td>502678.0</td>\n",
       "    </tr>\n",
       "    <tr>\n",
       "      <th>1596</th>\n",
       "      <td>34 ST-PENN STA</td>\n",
       "      <td>05/02/2018</td>\n",
       "      <td>143594.0</td>\n",
       "    </tr>\n",
       "    <tr>\n",
       "      <th>1597</th>\n",
       "      <td>34 ST-PENN STA</td>\n",
       "      <td>05/03/2018</td>\n",
       "      <td>145014.0</td>\n",
       "    </tr>\n",
       "    <tr>\n",
       "      <th>1598</th>\n",
       "      <td>34 ST-PENN STA</td>\n",
       "      <td>05/04/2018</td>\n",
       "      <td>148501.0</td>\n",
       "    </tr>\n",
       "    <tr>\n",
       "      <th>1599</th>\n",
       "      <td>34 ST-PENN STA</td>\n",
       "      <td>05/05/2018</td>\n",
       "      <td>145500.0</td>\n",
       "    </tr>\n",
       "    <tr>\n",
       "      <th>1600</th>\n",
       "      <td>34 ST-PENN STA</td>\n",
       "      <td>05/06/2018</td>\n",
       "      <td>73350.0</td>\n",
       "    </tr>\n",
       "    <tr>\n",
       "      <th>1601</th>\n",
       "      <td>34 ST-PENN STA</td>\n",
       "      <td>05/07/2018</td>\n",
       "      <td>58570.0</td>\n",
       "    </tr>\n",
       "    <tr>\n",
       "      <th>1602</th>\n",
       "      <td>34 ST-PENN STA</td>\n",
       "      <td>05/08/2018</td>\n",
       "      <td>139457.0</td>\n",
       "    </tr>\n",
       "    <tr>\n",
       "      <th>1603</th>\n",
       "      <td>34 ST-PENN STA</td>\n",
       "      <td>05/09/2018</td>\n",
       "      <td>634264.0</td>\n",
       "    </tr>\n",
       "    <tr>\n",
       "      <th>1604</th>\n",
       "      <td>34 ST-PENN STA</td>\n",
       "      <td>05/10/2018</td>\n",
       "      <td>148697.0</td>\n",
       "    </tr>\n",
       "    <tr>\n",
       "      <th>1605</th>\n",
       "      <td>34 ST-PENN STA</td>\n",
       "      <td>05/11/2018</td>\n",
       "      <td>150530.0</td>\n",
       "    </tr>\n",
       "    <tr>\n",
       "      <th>1606</th>\n",
       "      <td>34 ST-PENN STA</td>\n",
       "      <td>05/12/2018</td>\n",
       "      <td>149456.0</td>\n",
       "    </tr>\n",
       "    <tr>\n",
       "      <th>1607</th>\n",
       "      <td>34 ST-PENN STA</td>\n",
       "      <td>05/13/2018</td>\n",
       "      <td>81616.0</td>\n",
       "    </tr>\n",
       "    <tr>\n",
       "      <th>1608</th>\n",
       "      <td>34 ST-PENN STA</td>\n",
       "      <td>05/14/2018</td>\n",
       "      <td>61701.0</td>\n",
       "    </tr>\n",
       "    <tr>\n",
       "      <th>1609</th>\n",
       "      <td>34 ST-PENN STA</td>\n",
       "      <td>05/15/2018</td>\n",
       "      <td>136113.0</td>\n",
       "    </tr>\n",
       "    <tr>\n",
       "      <th>1610</th>\n",
       "      <td>34 ST-PENN STA</td>\n",
       "      <td>05/16/2018</td>\n",
       "      <td>150922.0</td>\n",
       "    </tr>\n",
       "    <tr>\n",
       "      <th>1611</th>\n",
       "      <td>34 ST-PENN STA</td>\n",
       "      <td>05/17/2018</td>\n",
       "      <td>153696.0</td>\n",
       "    </tr>\n",
       "    <tr>\n",
       "      <th>1612</th>\n",
       "      <td>34 ST-PENN STA</td>\n",
       "      <td>05/18/2018</td>\n",
       "      <td>150939.0</td>\n",
       "    </tr>\n",
       "  </tbody>\n",
       "</table>\n",
       "</div>"
      ],
      "text/plain": [
       "             STATION        DATE  DAILY_EXITS\n",
       "1593  34 ST-PENN STA  04/29/2018      77105.0\n",
       "1594  34 ST-PENN STA  04/30/2018      60443.0\n",
       "1595  34 ST-PENN STA  05/01/2018     502678.0\n",
       "1596  34 ST-PENN STA  05/02/2018     143594.0\n",
       "1597  34 ST-PENN STA  05/03/2018     145014.0\n",
       "1598  34 ST-PENN STA  05/04/2018     148501.0\n",
       "1599  34 ST-PENN STA  05/05/2018     145500.0\n",
       "1600  34 ST-PENN STA  05/06/2018      73350.0\n",
       "1601  34 ST-PENN STA  05/07/2018      58570.0\n",
       "1602  34 ST-PENN STA  05/08/2018     139457.0\n",
       "1603  34 ST-PENN STA  05/09/2018     634264.0\n",
       "1604  34 ST-PENN STA  05/10/2018     148697.0\n",
       "1605  34 ST-PENN STA  05/11/2018     150530.0\n",
       "1606  34 ST-PENN STA  05/12/2018     149456.0\n",
       "1607  34 ST-PENN STA  05/13/2018      81616.0\n",
       "1608  34 ST-PENN STA  05/14/2018      61701.0\n",
       "1609  34 ST-PENN STA  05/15/2018     136113.0\n",
       "1610  34 ST-PENN STA  05/16/2018     150922.0\n",
       "1611  34 ST-PENN STA  05/17/2018     153696.0\n",
       "1612  34 ST-PENN STA  05/18/2018     150939.0"
      ]
     },
     "execution_count": 32,
     "metadata": {},
     "output_type": "execute_result"
    }
   ],
   "source": [
    "top_1perc[(top_1perc[\"STATION\"]=='34 ST-PENN STA')].head(20)"
   ]
  },
  {
   "cell_type": "code",
   "execution_count": 33,
   "metadata": {},
   "outputs": [],
   "source": [
    "top_1perc[(top_1perc[\"STATION\"]=='34 ST-PENN STA') & (top_1perc[\"DATE\"]=='05/09/2018')]['DAILY_EXITS']\n",
    "fill_in_exits = top_1perc[(top_1perc[\"STATION\"]=='34 ST-PENN STA') & (top_1perc[\"DATE\"]=='05/08/2018')]['DAILY_EXITS']\n",
    "top_1perc.at[1603, 'DAILY_EXITS'] = fill_in_exits\n",
    "\n",
    "top_1perc[(top_1perc[\"STATION\"]=='34 ST-PENN STA') & (top_1perc[\"DATE\"]=='05/01/2018')]['DAILY_EXITS']\n",
    "fill_in_exits = top_1perc[(top_1perc[\"STATION\"]=='34 ST-PENN STA') & (top_1perc[\"DATE\"]=='04/30/2018')]['DAILY_EXITS']\n",
    "top_1perc.at[1595, 'DAILY_EXITS'] = fill_in_exits\n"
   ]
  },
  {
   "cell_type": "code",
   "execution_count": 34,
   "metadata": {},
   "outputs": [
    {
     "data": {
      "image/png": "[encoded data removed]",
      "text/plain": [
       "<Figure size 432x288 with 1 Axes>"
      ]
     },
     "metadata": {
      "needs_background": "light"
     },
     "output_type": "display_data"
    }
   ],
   "source": [
    "plot = sns.lineplot(x='DATE', y = 'DAILY_EXITS', data=top_1perc, hue='STATION')\n",
    "plt.setp(plot.get_xticklabels(), rotation=90)\n",
    "sns.set(rc={'figure.figsize':(15,10)})\n",
    "plt.title('Top 4 Stations [Passenger Exits] in May 2018')\n",
    "plt.savefig('presentation/figures/top4_month_ttlexits.svg')"
   ]
  }
 ],
 "metadata": {
  "kernelspec": {
   "display_name": "Python 3",
   "language": "python",
   "name": "python3"
  },
  "language_info": {
   "codemirror_mode": {
    "name": "ipython",
    "version": 3
   },
   "file_extension": ".py",
   "mimetype": "text/x-python",
   "name": "python",
   "nbconvert_exporter": "python",
   "pygments_lexer": "ipython3",
   "version": "3.7.1"
  },
  "toc": {
   "base_numbering": 1,
   "nav_menu": {},
   "number_sections": true,
   "sideBar": true,
   "skip_h1_title": false,
   "title_cell": "Table of Contents",
   "title_sidebar": "Contents",
   "toc_cell": false,
   "toc_position": {},
   "toc_section_display": true,
   "toc_window_display": false
  },
  "varInspector": {
   "cols": {
    "lenName": 16,
    "lenType": 16,
    "lenVar": 40
   },
   "kernels_config": {
    "python": {
     "delete_cmd_postfix": "",
     "delete_cmd_prefix": "del ",
     "library": "var_list.py",
     "varRefreshCmd": "print(var_dic_list())"
    },
    "r": {
     "delete_cmd_postfix": ") ",
     "delete_cmd_prefix": "rm(",
     "library": "var_list.r",
     "varRefreshCmd": "cat(var_dic_list()) "
    }
   },
   "types_to_exclude": [
    "module",
    "function",
    "builtin_function_or_method",
    "instance",
    "_Feature"
   ],
   "window_display": false
  }
 },
 "nbformat": 4,
 "nbformat_minor": 2
}
