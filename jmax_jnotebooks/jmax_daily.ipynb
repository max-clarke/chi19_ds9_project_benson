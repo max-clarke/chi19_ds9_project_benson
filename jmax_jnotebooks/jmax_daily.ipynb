{
 "cells": [
  {
   "cell_type": "code",
   "execution_count": 1,
   "metadata": {},
   "outputs": [],
   "source": [
    "import pandas as pd\n",
    "import numpy as np\n",
    "import matplotlib.pyplot as plt\n",
    "import pickle\n",
    "import seaborn as sns\n",
    "\n",
    "pd.options.display.max_rows = 25\n",
    "\n",
    "with open('pickles/with_weekdays.pickle','rb') as read_file:\n",
    "    may18_turnstiles = pickle.load(read_file)\n",
    "    "
   ]
  },
  {
   "cell_type": "code",
   "execution_count": 2,
   "metadata": {},
   "outputs": [
    {
     "data": {
      "text/plain": [
       "['C/A',\n",
       " 'UNIT',\n",
       " 'SCP',\n",
       " 'STATION',\n",
       " 'LINENAME',\n",
       " 'DIVISION',\n",
       " 'DATE',\n",
       " 'TIME',\n",
       " 'DESC',\n",
       " 'ENTRIES',\n",
       " 'EXITS',\n",
       " 'DATETIME',\n",
       " 'WEEKDAY_NUM',\n",
       " 'WEEKDAY']"
      ]
     },
     "execution_count": 2,
     "metadata": {},
     "output_type": "execute_result"
    }
   ],
   "source": [
    "list(may18_turnstiles)"
   ]
  },
  {
   "cell_type": "code",
   "execution_count": 3,
   "metadata": {},
   "outputs": [
    {
     "data": {
      "text/html": [
       "<div>\n",
       "<style scoped>\n",
       "    .dataframe tbody tr th:only-of-type {\n",
       "        vertical-align: middle;\n",
       "    }\n",
       "\n",
       "    .dataframe tbody tr th {\n",
       "        vertical-align: top;\n",
       "    }\n",
       "\n",
       "    .dataframe thead th {\n",
       "        text-align: right;\n",
       "    }\n",
       "</style>\n",
       "<table border=\"1\" class=\"dataframe\">\n",
       "  <thead>\n",
       "    <tr style=\"text-align: right;\">\n",
       "      <th></th>\n",
       "      <th>C/A</th>\n",
       "      <th>UNIT</th>\n",
       "      <th>SCP</th>\n",
       "      <th>STATION</th>\n",
       "      <th>LINENAME</th>\n",
       "      <th>DIVISION</th>\n",
       "      <th>DATE</th>\n",
       "      <th>TIME</th>\n",
       "      <th>DESC</th>\n",
       "      <th>ENTRIES</th>\n",
       "      <th>EXITS</th>\n",
       "      <th>DATETIME</th>\n",
       "      <th>WEEKDAY_NUM</th>\n",
       "      <th>WEEKDAY</th>\n",
       "    </tr>\n",
       "  </thead>\n",
       "  <tbody>\n",
       "    <tr>\n",
       "      <th>0</th>\n",
       "      <td>A002</td>\n",
       "      <td>R051</td>\n",
       "      <td>02-00-00</td>\n",
       "      <td>59 ST</td>\n",
       "      <td>NQR456W</td>\n",
       "      <td>BMT</td>\n",
       "      <td>05/19/2018</td>\n",
       "      <td>00:00:00</td>\n",
       "      <td>REGULAR</td>\n",
       "      <td>6625470</td>\n",
       "      <td>2245312</td>\n",
       "      <td>2018-05-19 00:00:00</td>\n",
       "      <td>5</td>\n",
       "      <td>Saturday</td>\n",
       "    </tr>\n",
       "    <tr>\n",
       "      <th>1</th>\n",
       "      <td>A002</td>\n",
       "      <td>R051</td>\n",
       "      <td>02-00-00</td>\n",
       "      <td>59 ST</td>\n",
       "      <td>NQR456W</td>\n",
       "      <td>BMT</td>\n",
       "      <td>05/19/2018</td>\n",
       "      <td>04:00:00</td>\n",
       "      <td>REGULAR</td>\n",
       "      <td>6625494</td>\n",
       "      <td>2245314</td>\n",
       "      <td>2018-05-19 04:00:00</td>\n",
       "      <td>5</td>\n",
       "      <td>Saturday</td>\n",
       "    </tr>\n",
       "    <tr>\n",
       "      <th>2</th>\n",
       "      <td>A002</td>\n",
       "      <td>R051</td>\n",
       "      <td>02-00-00</td>\n",
       "      <td>59 ST</td>\n",
       "      <td>NQR456W</td>\n",
       "      <td>BMT</td>\n",
       "      <td>05/19/2018</td>\n",
       "      <td>08:00:00</td>\n",
       "      <td>REGULAR</td>\n",
       "      <td>6625514</td>\n",
       "      <td>2245338</td>\n",
       "      <td>2018-05-19 08:00:00</td>\n",
       "      <td>5</td>\n",
       "      <td>Saturday</td>\n",
       "    </tr>\n",
       "    <tr>\n",
       "      <th>3</th>\n",
       "      <td>A002</td>\n",
       "      <td>R051</td>\n",
       "      <td>02-00-00</td>\n",
       "      <td>59 ST</td>\n",
       "      <td>NQR456W</td>\n",
       "      <td>BMT</td>\n",
       "      <td>05/19/2018</td>\n",
       "      <td>12:00:00</td>\n",
       "      <td>REGULAR</td>\n",
       "      <td>6625595</td>\n",
       "      <td>2245415</td>\n",
       "      <td>2018-05-19 12:00:00</td>\n",
       "      <td>5</td>\n",
       "      <td>Saturday</td>\n",
       "    </tr>\n",
       "    <tr>\n",
       "      <th>4</th>\n",
       "      <td>A002</td>\n",
       "      <td>R051</td>\n",
       "      <td>02-00-00</td>\n",
       "      <td>59 ST</td>\n",
       "      <td>NQR456W</td>\n",
       "      <td>BMT</td>\n",
       "      <td>05/19/2018</td>\n",
       "      <td>16:00:00</td>\n",
       "      <td>REGULAR</td>\n",
       "      <td>6625791</td>\n",
       "      <td>2245481</td>\n",
       "      <td>2018-05-19 16:00:00</td>\n",
       "      <td>5</td>\n",
       "      <td>Saturday</td>\n",
       "    </tr>\n",
       "  </tbody>\n",
       "</table>\n",
       "</div>"
      ],
      "text/plain": [
       "    C/A  UNIT       SCP STATION LINENAME DIVISION        DATE      TIME  \\\n",
       "0  A002  R051  02-00-00   59 ST  NQR456W      BMT  05/19/2018  00:00:00   \n",
       "1  A002  R051  02-00-00   59 ST  NQR456W      BMT  05/19/2018  04:00:00   \n",
       "2  A002  R051  02-00-00   59 ST  NQR456W      BMT  05/19/2018  08:00:00   \n",
       "3  A002  R051  02-00-00   59 ST  NQR456W      BMT  05/19/2018  12:00:00   \n",
       "4  A002  R051  02-00-00   59 ST  NQR456W      BMT  05/19/2018  16:00:00   \n",
       "\n",
       "      DESC  ENTRIES    EXITS            DATETIME  WEEKDAY_NUM   WEEKDAY  \n",
       "0  REGULAR  6625470  2245312 2018-05-19 00:00:00            5  Saturday  \n",
       "1  REGULAR  6625494  2245314 2018-05-19 04:00:00            5  Saturday  \n",
       "2  REGULAR  6625514  2245338 2018-05-19 08:00:00            5  Saturday  \n",
       "3  REGULAR  6625595  2245415 2018-05-19 12:00:00            5  Saturday  \n",
       "4  REGULAR  6625791  2245481 2018-05-19 16:00:00            5  Saturday  "
      ]
     },
     "execution_count": 3,
     "metadata": {},
     "output_type": "execute_result"
    }
   ],
   "source": [
    "may18_turnstiles.head()\n",
    "\n"
   ]
  },
  {
   "cell_type": "code",
   "execution_count": 4,
   "metadata": {},
   "outputs": [
    {
     "data": {
      "text/plain": [
       "Index(['C/A', 'UNIT', 'SCP', 'STATION', 'LINENAME', 'DIVISION', 'DATE', 'TIME',\n",
       "       'DESC', 'ENTRIES', 'EXITS', 'DATETIME', 'WEEKDAY_NUM', 'WEEKDAY'],\n",
       "      dtype='object')"
      ]
     },
     "execution_count": 4,
     "metadata": {},
     "output_type": "execute_result"
    }
   ],
   "source": [
    "may18_turnstiles.columns"
   ]
  },
  {
   "cell_type": "code",
   "execution_count": 5,
   "metadata": {},
   "outputs": [],
   "source": [
    "may18_turnstiles_daily = may18_turnstiles.groupby([\"C/A\", \"UNIT\", \"SCP\", \"STATION\", \"DATE\"])\\\n",
    ".ENTRIES.first().reset_index()"
   ]
  },
  {
   "cell_type": "code",
   "execution_count": 6,
   "metadata": {},
   "outputs": [
    {
     "data": {
      "text/html": [
       "<div>\n",
       "<style scoped>\n",
       "    .dataframe tbody tr th:only-of-type {\n",
       "        vertical-align: middle;\n",
       "    }\n",
       "\n",
       "    .dataframe tbody tr th {\n",
       "        vertical-align: top;\n",
       "    }\n",
       "\n",
       "    .dataframe thead th {\n",
       "        text-align: right;\n",
       "    }\n",
       "</style>\n",
       "<table border=\"1\" class=\"dataframe\">\n",
       "  <thead>\n",
       "    <tr style=\"text-align: right;\">\n",
       "      <th></th>\n",
       "      <th>C/A</th>\n",
       "      <th>UNIT</th>\n",
       "      <th>SCP</th>\n",
       "      <th>STATION</th>\n",
       "      <th>DATE</th>\n",
       "      <th>ENTRIES</th>\n",
       "    </tr>\n",
       "  </thead>\n",
       "  <tbody>\n",
       "    <tr>\n",
       "      <th>0</th>\n",
       "      <td>A002</td>\n",
       "      <td>R051</td>\n",
       "      <td>02-00-00</td>\n",
       "      <td>59 ST</td>\n",
       "      <td>04/28/2018</td>\n",
       "      <td>6598847</td>\n",
       "    </tr>\n",
       "    <tr>\n",
       "      <th>1</th>\n",
       "      <td>A002</td>\n",
       "      <td>R051</td>\n",
       "      <td>02-00-00</td>\n",
       "      <td>59 ST</td>\n",
       "      <td>04/29/2018</td>\n",
       "      <td>6599584</td>\n",
       "    </tr>\n",
       "    <tr>\n",
       "      <th>2</th>\n",
       "      <td>A002</td>\n",
       "      <td>R051</td>\n",
       "      <td>02-00-00</td>\n",
       "      <td>59 ST</td>\n",
       "      <td>04/30/2018</td>\n",
       "      <td>6600159</td>\n",
       "    </tr>\n",
       "    <tr>\n",
       "      <th>3</th>\n",
       "      <td>A002</td>\n",
       "      <td>R051</td>\n",
       "      <td>02-00-00</td>\n",
       "      <td>59 ST</td>\n",
       "      <td>05/01/2018</td>\n",
       "      <td>6601762</td>\n",
       "    </tr>\n",
       "    <tr>\n",
       "      <th>4</th>\n",
       "      <td>A002</td>\n",
       "      <td>R051</td>\n",
       "      <td>02-00-00</td>\n",
       "      <td>59 ST</td>\n",
       "      <td>05/02/2018</td>\n",
       "      <td>6603274</td>\n",
       "    </tr>\n",
       "  </tbody>\n",
       "</table>\n",
       "</div>"
      ],
      "text/plain": [
       "    C/A  UNIT       SCP STATION        DATE  ENTRIES\n",
       "0  A002  R051  02-00-00   59 ST  04/28/2018  6598847\n",
       "1  A002  R051  02-00-00   59 ST  04/29/2018  6599584\n",
       "2  A002  R051  02-00-00   59 ST  04/30/2018  6600159\n",
       "3  A002  R051  02-00-00   59 ST  05/01/2018  6601762\n",
       "4  A002  R051  02-00-00   59 ST  05/02/2018  6603274"
      ]
     },
     "execution_count": 6,
     "metadata": {},
     "output_type": "execute_result"
    }
   ],
   "source": [
    "may18_turnstiles_daily.head()"
   ]
  },
  {
   "cell_type": "code",
   "execution_count": 7,
   "metadata": {},
   "outputs": [],
   "source": [
    "may18_turnstiles_daily[[\"PREV_DATE\", \"PREV_ENTRIES\"]] = (may18_turnstiles_daily\n",
    "                                                       .groupby([\"C/A\", \"UNIT\", \"SCP\", \"STATION\"])[\"DATE\", \"ENTRIES\"]\n",
    "                                                       .transform(lambda grp: grp.shift(1)))"
   ]
  },
  {
   "cell_type": "code",
   "execution_count": 8,
   "metadata": {},
   "outputs": [
    {
     "data": {
      "text/html": [
       "<div>\n",
       "<style scoped>\n",
       "    .dataframe tbody tr th:only-of-type {\n",
       "        vertical-align: middle;\n",
       "    }\n",
       "\n",
       "    .dataframe tbody tr th {\n",
       "        vertical-align: top;\n",
       "    }\n",
       "\n",
       "    .dataframe thead th {\n",
       "        text-align: right;\n",
       "    }\n",
       "</style>\n",
       "<table border=\"1\" class=\"dataframe\">\n",
       "  <thead>\n",
       "    <tr style=\"text-align: right;\">\n",
       "      <th></th>\n",
       "      <th>C/A</th>\n",
       "      <th>UNIT</th>\n",
       "      <th>SCP</th>\n",
       "      <th>STATION</th>\n",
       "      <th>DATE</th>\n",
       "      <th>ENTRIES</th>\n",
       "      <th>PREV_DATE</th>\n",
       "      <th>PREV_ENTRIES</th>\n",
       "    </tr>\n",
       "  </thead>\n",
       "  <tbody>\n",
       "    <tr>\n",
       "      <th>0</th>\n",
       "      <td>A002</td>\n",
       "      <td>R051</td>\n",
       "      <td>02-00-00</td>\n",
       "      <td>59 ST</td>\n",
       "      <td>04/28/2018</td>\n",
       "      <td>6598847</td>\n",
       "      <td>NaN</td>\n",
       "      <td>NaN</td>\n",
       "    </tr>\n",
       "    <tr>\n",
       "      <th>1</th>\n",
       "      <td>A002</td>\n",
       "      <td>R051</td>\n",
       "      <td>02-00-00</td>\n",
       "      <td>59 ST</td>\n",
       "      <td>04/29/2018</td>\n",
       "      <td>6599584</td>\n",
       "      <td>04/28/2018</td>\n",
       "      <td>6598847.0</td>\n",
       "    </tr>\n",
       "    <tr>\n",
       "      <th>2</th>\n",
       "      <td>A002</td>\n",
       "      <td>R051</td>\n",
       "      <td>02-00-00</td>\n",
       "      <td>59 ST</td>\n",
       "      <td>04/30/2018</td>\n",
       "      <td>6600159</td>\n",
       "      <td>04/29/2018</td>\n",
       "      <td>6599584.0</td>\n",
       "    </tr>\n",
       "    <tr>\n",
       "      <th>3</th>\n",
       "      <td>A002</td>\n",
       "      <td>R051</td>\n",
       "      <td>02-00-00</td>\n",
       "      <td>59 ST</td>\n",
       "      <td>05/01/2018</td>\n",
       "      <td>6601762</td>\n",
       "      <td>04/30/2018</td>\n",
       "      <td>6600159.0</td>\n",
       "    </tr>\n",
       "    <tr>\n",
       "      <th>4</th>\n",
       "      <td>A002</td>\n",
       "      <td>R051</td>\n",
       "      <td>02-00-00</td>\n",
       "      <td>59 ST</td>\n",
       "      <td>05/02/2018</td>\n",
       "      <td>6603274</td>\n",
       "      <td>05/01/2018</td>\n",
       "      <td>6601762.0</td>\n",
       "    </tr>\n",
       "  </tbody>\n",
       "</table>\n",
       "</div>"
      ],
      "text/plain": [
       "    C/A  UNIT       SCP STATION        DATE  ENTRIES   PREV_DATE  PREV_ENTRIES\n",
       "0  A002  R051  02-00-00   59 ST  04/28/2018  6598847         NaN           NaN\n",
       "1  A002  R051  02-00-00   59 ST  04/29/2018  6599584  04/28/2018     6598847.0\n",
       "2  A002  R051  02-00-00   59 ST  04/30/2018  6600159  04/29/2018     6599584.0\n",
       "3  A002  R051  02-00-00   59 ST  05/01/2018  6601762  04/30/2018     6600159.0\n",
       "4  A002  R051  02-00-00   59 ST  05/02/2018  6603274  05/01/2018     6601762.0"
      ]
     },
     "execution_count": 8,
     "metadata": {},
     "output_type": "execute_result"
    }
   ],
   "source": [
    "may18_turnstiles_daily.head()"
   ]
  },
  {
   "cell_type": "code",
   "execution_count": 9,
   "metadata": {},
   "outputs": [],
   "source": [
    "def get_daily_counts(row, max_counter):\n",
    "    counter = row[\"ENTRIES\"] - row[\"PREV_ENTRIES\"]\n",
    "    if counter < 0:\n",
    "        counter = -counter\n",
    "    if counter > max_counter:\n",
    "        print(row[\"ENTRIES\"], row[\"PREV_ENTRIES\"])\n",
    "        return 0\n",
    "    return counter"
   ]
  },
  {
   "cell_type": "code",
   "execution_count": 18,
   "metadata": {},
   "outputs": [
    {
     "name": "stdout",
     "output_type": "stream",
     "text": [
      "3239 29161864.0\n",
      "245 7117187.0\n",
      "458763 4365358.0\n",
      "520 1948601.0\n",
      "353 4451634.0\n",
      "249 2411605.0\n",
      "202 1787548.0\n",
      "2067430671 910954.0\n",
      "2067447699 2242433.0\n",
      "1351066 2067431097.0\n",
      "5106968 1349325.0\n",
      "131088 151252580.0\n",
      "458795 67192668.0\n",
      "411 1752678.0\n",
      "638 1323500.0\n",
      "458773 83931121.0\n",
      "1324 1517023.0\n",
      "1554 3329957.0\n",
      "924928668 1859546175.0\n",
      "387980040 924934120.0\n",
      "350 1181759.0\n",
      "117441735 1487677.0\n",
      "548 2380958.0\n",
      "814 4767407.0\n",
      "117440869 460529.0\n",
      "2424998 148712.0\n",
      "545 2430951.0\n",
      "1224784182 4839361.0\n",
      "657 12537341.0\n",
      "1953177667 346.0\n",
      "502 6304213.0\n",
      "555 4977394.0\n",
      "1310834 185542.0\n"
     ]
    }
   ],
   "source": [
    "may18_turnstiles_daily[\"DAILY_ENTRIES\"] = may18_turnstiles_daily.apply(get_daily_counts, axis=1, max_counter=1000000) "
   ]
  },
  {
   "cell_type": "code",
   "execution_count": 20,
   "metadata": {},
   "outputs": [
    {
     "data": {
      "text/html": [
       "<div>\n",
       "<style scoped>\n",
       "    .dataframe tbody tr th:only-of-type {\n",
       "        vertical-align: middle;\n",
       "    }\n",
       "\n",
       "    .dataframe tbody tr th {\n",
       "        vertical-align: top;\n",
       "    }\n",
       "\n",
       "    .dataframe thead th {\n",
       "        text-align: right;\n",
       "    }\n",
       "</style>\n",
       "<table border=\"1\" class=\"dataframe\">\n",
       "  <thead>\n",
       "    <tr style=\"text-align: right;\">\n",
       "      <th></th>\n",
       "      <th>C/A</th>\n",
       "      <th>UNIT</th>\n",
       "      <th>SCP</th>\n",
       "      <th>STATION</th>\n",
       "      <th>DATE</th>\n",
       "      <th>ENTRIES</th>\n",
       "      <th>PREV_DATE</th>\n",
       "      <th>PREV_ENTRIES</th>\n",
       "      <th>DAILY_ENTRIES</th>\n",
       "    </tr>\n",
       "  </thead>\n",
       "  <tbody>\n",
       "    <tr>\n",
       "      <th>1</th>\n",
       "      <td>A002</td>\n",
       "      <td>R051</td>\n",
       "      <td>02-00-00</td>\n",
       "      <td>59 ST</td>\n",
       "      <td>04/29/2018</td>\n",
       "      <td>6599584</td>\n",
       "      <td>04/28/2018</td>\n",
       "      <td>6598847.0</td>\n",
       "      <td>737.0</td>\n",
       "    </tr>\n",
       "    <tr>\n",
       "      <th>2</th>\n",
       "      <td>A002</td>\n",
       "      <td>R051</td>\n",
       "      <td>02-00-00</td>\n",
       "      <td>59 ST</td>\n",
       "      <td>04/30/2018</td>\n",
       "      <td>6600159</td>\n",
       "      <td>04/29/2018</td>\n",
       "      <td>6599584.0</td>\n",
       "      <td>575.0</td>\n",
       "    </tr>\n",
       "    <tr>\n",
       "      <th>3</th>\n",
       "      <td>A002</td>\n",
       "      <td>R051</td>\n",
       "      <td>02-00-00</td>\n",
       "      <td>59 ST</td>\n",
       "      <td>05/01/2018</td>\n",
       "      <td>6601762</td>\n",
       "      <td>04/30/2018</td>\n",
       "      <td>6600159.0</td>\n",
       "      <td>1603.0</td>\n",
       "    </tr>\n",
       "    <tr>\n",
       "      <th>4</th>\n",
       "      <td>A002</td>\n",
       "      <td>R051</td>\n",
       "      <td>02-00-00</td>\n",
       "      <td>59 ST</td>\n",
       "      <td>05/02/2018</td>\n",
       "      <td>6603274</td>\n",
       "      <td>05/01/2018</td>\n",
       "      <td>6601762.0</td>\n",
       "      <td>1512.0</td>\n",
       "    </tr>\n",
       "    <tr>\n",
       "      <th>5</th>\n",
       "      <td>A002</td>\n",
       "      <td>R051</td>\n",
       "      <td>02-00-00</td>\n",
       "      <td>59 ST</td>\n",
       "      <td>05/03/2018</td>\n",
       "      <td>6604787</td>\n",
       "      <td>05/02/2018</td>\n",
       "      <td>6603274.0</td>\n",
       "      <td>1513.0</td>\n",
       "    </tr>\n",
       "    <tr>\n",
       "      <th>6</th>\n",
       "      <td>A002</td>\n",
       "      <td>R051</td>\n",
       "      <td>02-00-00</td>\n",
       "      <td>59 ST</td>\n",
       "      <td>05/04/2018</td>\n",
       "      <td>6606302</td>\n",
       "      <td>05/03/2018</td>\n",
       "      <td>6604787.0</td>\n",
       "      <td>1515.0</td>\n",
       "    </tr>\n",
       "    <tr>\n",
       "      <th>7</th>\n",
       "      <td>A002</td>\n",
       "      <td>R051</td>\n",
       "      <td>02-00-00</td>\n",
       "      <td>59 ST</td>\n",
       "      <td>05/05/2018</td>\n",
       "      <td>6607801</td>\n",
       "      <td>05/04/2018</td>\n",
       "      <td>6606302.0</td>\n",
       "      <td>1499.0</td>\n",
       "    </tr>\n",
       "    <tr>\n",
       "      <th>8</th>\n",
       "      <td>A002</td>\n",
       "      <td>R051</td>\n",
       "      <td>02-00-00</td>\n",
       "      <td>59 ST</td>\n",
       "      <td>05/06/2018</td>\n",
       "      <td>6608575</td>\n",
       "      <td>05/05/2018</td>\n",
       "      <td>6607801.0</td>\n",
       "      <td>774.0</td>\n",
       "    </tr>\n",
       "    <tr>\n",
       "      <th>9</th>\n",
       "      <td>A002</td>\n",
       "      <td>R051</td>\n",
       "      <td>02-00-00</td>\n",
       "      <td>59 ST</td>\n",
       "      <td>05/07/2018</td>\n",
       "      <td>6609121</td>\n",
       "      <td>05/06/2018</td>\n",
       "      <td>6608575.0</td>\n",
       "      <td>546.0</td>\n",
       "    </tr>\n",
       "    <tr>\n",
       "      <th>10</th>\n",
       "      <td>A002</td>\n",
       "      <td>R051</td>\n",
       "      <td>02-00-00</td>\n",
       "      <td>59 ST</td>\n",
       "      <td>05/08/2018</td>\n",
       "      <td>6610581</td>\n",
       "      <td>05/07/2018</td>\n",
       "      <td>6609121.0</td>\n",
       "      <td>1460.0</td>\n",
       "    </tr>\n",
       "  </tbody>\n",
       "</table>\n",
       "</div>"
      ],
      "text/plain": [
       "     C/A  UNIT       SCP STATION        DATE  ENTRIES   PREV_DATE  \\\n",
       "1   A002  R051  02-00-00   59 ST  04/29/2018  6599584  04/28/2018   \n",
       "2   A002  R051  02-00-00   59 ST  04/30/2018  6600159  04/29/2018   \n",
       "3   A002  R051  02-00-00   59 ST  05/01/2018  6601762  04/30/2018   \n",
       "4   A002  R051  02-00-00   59 ST  05/02/2018  6603274  05/01/2018   \n",
       "5   A002  R051  02-00-00   59 ST  05/03/2018  6604787  05/02/2018   \n",
       "6   A002  R051  02-00-00   59 ST  05/04/2018  6606302  05/03/2018   \n",
       "7   A002  R051  02-00-00   59 ST  05/05/2018  6607801  05/04/2018   \n",
       "8   A002  R051  02-00-00   59 ST  05/06/2018  6608575  05/05/2018   \n",
       "9   A002  R051  02-00-00   59 ST  05/07/2018  6609121  05/06/2018   \n",
       "10  A002  R051  02-00-00   59 ST  05/08/2018  6610581  05/07/2018   \n",
       "\n",
       "    PREV_ENTRIES  DAILY_ENTRIES  \n",
       "1      6598847.0          737.0  \n",
       "2      6599584.0          575.0  \n",
       "3      6600159.0         1603.0  \n",
       "4      6601762.0         1512.0  \n",
       "5      6603274.0         1513.0  \n",
       "6      6604787.0         1515.0  \n",
       "7      6606302.0         1499.0  \n",
       "8      6607801.0          774.0  \n",
       "9      6608575.0          546.0  \n",
       "10     6609121.0         1460.0  "
      ]
     },
     "execution_count": 20,
     "metadata": {},
     "output_type": "execute_result"
    }
   ],
   "source": [
    "may18_turnstiles_daily.head(10)"
   ]
  },
  {
   "cell_type": "code",
   "execution_count": 56,
   "metadata": {},
   "outputs": [],
   "source": [
    "#may18_turnstiles_daily['STATION'].unique()"
   ]
  },
  {
   "cell_type": "code",
   "execution_count": null,
   "metadata": {},
   "outputs": [],
   "source": []
  },
  {
   "cell_type": "code",
   "execution_count": 44,
   "metadata": {},
   "outputs": [
    {
     "data": {
      "text/html": [
       "<div>\n",
       "<style scoped>\n",
       "    .dataframe tbody tr th:only-of-type {\n",
       "        vertical-align: middle;\n",
       "    }\n",
       "\n",
       "    .dataframe tbody tr th {\n",
       "        vertical-align: top;\n",
       "    }\n",
       "\n",
       "    .dataframe thead th {\n",
       "        text-align: right;\n",
       "    }\n",
       "</style>\n",
       "<table border=\"1\" class=\"dataframe\">\n",
       "  <thead>\n",
       "    <tr style=\"text-align: right;\">\n",
       "      <th></th>\n",
       "      <th>C/A</th>\n",
       "      <th>UNIT</th>\n",
       "      <th>SCP</th>\n",
       "      <th>STATION</th>\n",
       "      <th>DATE</th>\n",
       "      <th>ENTRIES</th>\n",
       "      <th>PREV_DATE</th>\n",
       "      <th>PREV_ENTRIES</th>\n",
       "      <th>DAILY_ENTRIES</th>\n",
       "    </tr>\n",
       "  </thead>\n",
       "  <tbody>\n",
       "    <tr>\n",
       "      <th>33528</th>\n",
       "      <td>N067</td>\n",
       "      <td>R012</td>\n",
       "      <td>00-00-00</td>\n",
       "      <td>34 ST-PENN STA</td>\n",
       "      <td>04/29/2018</td>\n",
       "      <td>2008970</td>\n",
       "      <td>04/28/2018</td>\n",
       "      <td>2008609.0</td>\n",
       "      <td>361.0</td>\n",
       "    </tr>\n",
       "    <tr>\n",
       "      <th>33529</th>\n",
       "      <td>N067</td>\n",
       "      <td>R012</td>\n",
       "      <td>00-00-00</td>\n",
       "      <td>34 ST-PENN STA</td>\n",
       "      <td>04/30/2018</td>\n",
       "      <td>2009177</td>\n",
       "      <td>04/29/2018</td>\n",
       "      <td>2008970.0</td>\n",
       "      <td>207.0</td>\n",
       "    </tr>\n",
       "    <tr>\n",
       "      <th>33530</th>\n",
       "      <td>N067</td>\n",
       "      <td>R012</td>\n",
       "      <td>00-00-00</td>\n",
       "      <td>34 ST-PENN STA</td>\n",
       "      <td>05/01/2018</td>\n",
       "      <td>2009923</td>\n",
       "      <td>04/30/2018</td>\n",
       "      <td>2009177.0</td>\n",
       "      <td>746.0</td>\n",
       "    </tr>\n",
       "    <tr>\n",
       "      <th>33531</th>\n",
       "      <td>N067</td>\n",
       "      <td>R012</td>\n",
       "      <td>00-00-00</td>\n",
       "      <td>34 ST-PENN STA</td>\n",
       "      <td>05/02/2018</td>\n",
       "      <td>2010723</td>\n",
       "      <td>05/01/2018</td>\n",
       "      <td>2009923.0</td>\n",
       "      <td>800.0</td>\n",
       "    </tr>\n",
       "    <tr>\n",
       "      <th>33532</th>\n",
       "      <td>N067</td>\n",
       "      <td>R012</td>\n",
       "      <td>00-00-00</td>\n",
       "      <td>34 ST-PENN STA</td>\n",
       "      <td>05/03/2018</td>\n",
       "      <td>2011466</td>\n",
       "      <td>05/02/2018</td>\n",
       "      <td>2010723.0</td>\n",
       "      <td>743.0</td>\n",
       "    </tr>\n",
       "  </tbody>\n",
       "</table>\n",
       "</div>"
      ],
      "text/plain": [
       "        C/A  UNIT       SCP         STATION        DATE  ENTRIES   PREV_DATE  \\\n",
       "33528  N067  R012  00-00-00  34 ST-PENN STA  04/29/2018  2008970  04/28/2018   \n",
       "33529  N067  R012  00-00-00  34 ST-PENN STA  04/30/2018  2009177  04/29/2018   \n",
       "33530  N067  R012  00-00-00  34 ST-PENN STA  05/01/2018  2009923  04/30/2018   \n",
       "33531  N067  R012  00-00-00  34 ST-PENN STA  05/02/2018  2010723  05/01/2018   \n",
       "33532  N067  R012  00-00-00  34 ST-PENN STA  05/03/2018  2011466  05/02/2018   \n",
       "\n",
       "       PREV_ENTRIES  DAILY_ENTRIES  \n",
       "33528     2008609.0          361.0  \n",
       "33529     2008970.0          207.0  \n",
       "33530     2009177.0          746.0  \n",
       "33531     2009923.0          800.0  \n",
       "33532     2010723.0          743.0  "
      ]
     },
     "execution_count": 44,
     "metadata": {},
     "output_type": "execute_result"
    }
   ],
   "source": []
  },
  {
   "cell_type": "code",
   "execution_count": 45,
   "metadata": {},
   "outputs": [
    {
     "data": {
      "text/plain": [
       "4481073.0"
      ]
     },
     "execution_count": 45,
     "metadata": {},
     "output_type": "execute_result"
    }
   ],
   "source": []
  },
  {
   "cell_type": "code",
   "execution_count": 77,
   "metadata": {},
   "outputs": [
    {
     "data": {
      "text/html": [
       "<div>\n",
       "<style scoped>\n",
       "    .dataframe tbody tr th:only-of-type {\n",
       "        vertical-align: middle;\n",
       "    }\n",
       "\n",
       "    .dataframe tbody tr th {\n",
       "        vertical-align: top;\n",
       "    }\n",
       "\n",
       "    .dataframe thead th {\n",
       "        text-align: right;\n",
       "    }\n",
       "</style>\n",
       "<table border=\"1\" class=\"dataframe\">\n",
       "  <thead>\n",
       "    <tr style=\"text-align: right;\">\n",
       "      <th></th>\n",
       "      <th>STATION</th>\n",
       "      <th>ENTRIES</th>\n",
       "      <th>PREV_ENTRIES</th>\n",
       "      <th>TTL_ENTRIES_MONTH</th>\n",
       "    </tr>\n",
       "  </thead>\n",
       "  <tbody>\n",
       "    <tr>\n",
       "      <th>59</th>\n",
       "      <td>34 ST-PENN STA</td>\n",
       "      <td>107350374918</td>\n",
       "      <td>1.073462e+11</td>\n",
       "      <td>4481073.0</td>\n",
       "    </tr>\n",
       "    <tr>\n",
       "      <th>230</th>\n",
       "      <td>GRD CNTRL-42 ST</td>\n",
       "      <td>41141923989</td>\n",
       "      <td>4.114107e+10</td>\n",
       "      <td>3501329.0</td>\n",
       "    </tr>\n",
       "    <tr>\n",
       "      <th>57</th>\n",
       "      <td>34 ST-HERALD SQ</td>\n",
       "      <td>151184268460</td>\n",
       "      <td>1.511821e+11</td>\n",
       "      <td>3280477.0</td>\n",
       "    </tr>\n",
       "    <tr>\n",
       "      <th>255</th>\n",
       "      <td>JOURNAL SQUARE</td>\n",
       "      <td>255543748</td>\n",
       "      <td>2.554378e+08</td>\n",
       "      <td>2849193.0</td>\n",
       "    </tr>\n",
       "    <tr>\n",
       "      <th>45</th>\n",
       "      <td>23 ST</td>\n",
       "      <td>180833457802</td>\n",
       "      <td>1.808308e+11</td>\n",
       "      <td>2836696.0</td>\n",
       "    </tr>\n",
       "    <tr>\n",
       "      <th>14</th>\n",
       "      <td>14 ST-UNION SQ</td>\n",
       "      <td>22477160328</td>\n",
       "      <td>2.235859e+10</td>\n",
       "      <td>2617315.0</td>\n",
       "    </tr>\n",
       "    <tr>\n",
       "      <th>350</th>\n",
       "      <td>TIMES SQ-42 ST</td>\n",
       "      <td>157551986492</td>\n",
       "      <td>1.575511e+11</td>\n",
       "      <td>2510090.0</td>\n",
       "    </tr>\n",
       "    <tr>\n",
       "      <th>65</th>\n",
       "      <td>42 ST-PORT AUTH</td>\n",
       "      <td>204808623100</td>\n",
       "      <td>2.048066e+11</td>\n",
       "      <td>2505629.0</td>\n",
       "    </tr>\n",
       "    <tr>\n",
       "      <th>223</th>\n",
       "      <td>FULTON ST</td>\n",
       "      <td>117058994516</td>\n",
       "      <td>1.170567e+11</td>\n",
       "      <td>2283984.0</td>\n",
       "    </tr>\n",
       "    <tr>\n",
       "      <th>107</th>\n",
       "      <td>86 ST</td>\n",
       "      <td>65644510400</td>\n",
       "      <td>6.564955e+10</td>\n",
       "      <td>2076593.0</td>\n",
       "    </tr>\n",
       "  </tbody>\n",
       "</table>\n",
       "</div>"
      ],
      "text/plain": [
       "             STATION       ENTRIES  PREV_ENTRIES  TTL_ENTRIES_MONTH\n",
       "59    34 ST-PENN STA  107350374918  1.073462e+11          4481073.0\n",
       "230  GRD CNTRL-42 ST   41141923989  4.114107e+10          3501329.0\n",
       "57   34 ST-HERALD SQ  151184268460  1.511821e+11          3280477.0\n",
       "255   JOURNAL SQUARE     255543748  2.554378e+08          2849193.0\n",
       "45             23 ST  180833457802  1.808308e+11          2836696.0\n",
       "14    14 ST-UNION SQ   22477160328  2.235859e+10          2617315.0\n",
       "350   TIMES SQ-42 ST  157551986492  1.575511e+11          2510090.0\n",
       "65   42 ST-PORT AUTH  204808623100  2.048066e+11          2505629.0\n",
       "223        FULTON ST  117058994516  1.170567e+11          2283984.0\n",
       "107            86 ST   65644510400  6.564955e+10          2076593.0"
      ]
     },
     "execution_count": 77,
     "metadata": {},
     "output_type": "execute_result"
    }
   ],
   "source": [
    "may18_turnstiles_daily = may18_turnstiles_daily.dropna()\n",
    "#month of May 18 daily entries\n",
    "may18_entries = may18_turnstiles_daily.groupby('STATION').sum().reset_index()\n",
    "may18_entries.rename(columns = {'DAILY_ENTRIES':'TTL_ENTRIES_MONTH'}, inplace = True)\n",
    "may18_entries.sort_values('TTL_ENTRIES_MONTH', ascending = False ).head(10)\n"
   ]
  },
  {
   "cell_type": "code",
   "execution_count": 75,
   "metadata": {},
   "outputs": [
    {
     "data": {
      "text/plain": [
       "59    True\n",
       "Name: TTL_ENTRIES_MONTH, dtype: bool"
      ]
     },
     "execution_count": 75,
     "metadata": {},
     "output_type": "execute_result"
    }
   ],
   "source": [
    "#sanity check\n",
    "penn = may18_turnstiles_daily[may18_turnstiles_daily['STATION'] == '34 ST-PENN STA']\n",
    "penn_may18 = may18_entries[may18_entries['STATION'] == '34 ST-PENN STA']\n",
    "penn_may18_total = penn_may18['TTL_ENTRIES_MONTH']\n",
    "penn['DAILY_ENTRIES'].sum() == penn_may18_total"
   ]
  },
  {
   "cell_type": "markdown",
   "metadata": {},
   "source": [
    "Total Entries per station in May18"
   ]
  },
  {
   "cell_type": "code",
   "execution_count": 86,
   "metadata": {},
   "outputs": [
    {
     "data": {
      "text/plain": [
       "[]"
      ]
     },
     "execution_count": 86,
     "metadata": {},
     "output_type": "execute_result"
    },
    {
     "data": {
      "image/png": "[encoded data removed]",
      "text/plain": [
       "<Figure size 432x288 with 1 Axes>"
      ]
     },
     "metadata": {
      "needs_background": "light"
     },
     "output_type": "display_data"
    }
   ],
   "source": [
    "#want barplot with each station and monthly entries, exits, and total traffic\n",
    "#Entries below\n",
    "plot = sns.barplot(x = 'STATION', y = 'TTL_ENTRIES_MONTH', data = may18_entries)\n",
    "plt.title('Total Entries per MTA Station in May 2018')\n",
    "plot.axes.get_xaxis().set_ticks([])"
   ]
  },
  {
   "cell_type": "code",
   "execution_count": 87,
   "metadata": {},
   "outputs": [],
   "source": [
    "#Want top 10% of terminals. Want to draw a horizontal line on the above graph at 10%"
   ]
  },
  {
   "cell_type": "code",
   "execution_count": 88,
   "metadata": {},
   "outputs": [],
   "source": [
    "#Need to find what the cuttoff for top 10% is\n"
   ]
  },
  {
   "cell_type": "code",
   "execution_count": 92,
   "metadata": {},
   "outputs": [],
   "source": [
    "top_10pcnt_may18 = may18_entries['TTL_ENTRIES_MONTH'].quantile(.9)"
   ]
  },
  {
   "cell_type": "code",
   "execution_count": 93,
   "metadata": {},
   "outputs": [
    {
     "data": {
      "text/plain": [
       "925068.8000000005"
      ]
     },
     "execution_count": 93,
     "metadata": {},
     "output_type": "execute_result"
    }
   ],
   "source": [
    "top_10pcnt_may18"
   ]
  },
  {
   "cell_type": "code",
   "execution_count": 146,
   "metadata": {},
   "outputs": [
    {
     "data": {
      "image/png": "[encoded data removed]",
      "text/plain": [
       "<Figure size 432x288 with 1 Axes>"
      ]
     },
     "metadata": {
      "needs_background": "light"
     },
     "output_type": "display_data"
    }
   ],
   "source": [
    "plot = sns.barplot(x = 'STATION', y = 'TTL_ENTRIES_MONTH', data = may18_entries)\n",
    "plt.title('Total Entries per MTA Station in May 2018')\n",
    "plot.axes.get_xaxis().set_ticks([])\n",
    "plt.axhline(y = top_10pcnt_may18)\n",
    "plt.savefig(\"total_entries_May18_10perhline.svg\")"
   ]
  },
  {
   "cell_type": "code",
   "execution_count": null,
   "metadata": {},
   "outputs": [],
   "source": [
    "#filter out bottom ninety percent"
   ]
  },
  {
   "cell_type": "code",
   "execution_count": 97,
   "metadata": {},
   "outputs": [],
   "source": [
    "top_10_may18_df = may18_entries[may18_entries['TTL_ENTRIES_MONTH'] > top_10pcnt_may18]"
   ]
  },
  {
   "cell_type": "code",
   "execution_count": 98,
   "metadata": {},
   "outputs": [
    {
     "data": {
      "text/plain": [
       "38"
      ]
     },
     "execution_count": 98,
     "metadata": {},
     "output_type": "execute_result"
    }
   ],
   "source": [
    "len(top_10_may18_df)"
   ]
  },
  {
   "cell_type": "code",
   "execution_count": 100,
   "metadata": {},
   "outputs": [
    {
     "data": {
      "text/html": [
       "<div>\n",
       "<style scoped>\n",
       "    .dataframe tbody tr th:only-of-type {\n",
       "        vertical-align: middle;\n",
       "    }\n",
       "\n",
       "    .dataframe tbody tr th {\n",
       "        vertical-align: top;\n",
       "    }\n",
       "\n",
       "    .dataframe thead th {\n",
       "        text-align: right;\n",
       "    }\n",
       "</style>\n",
       "<table border=\"1\" class=\"dataframe\">\n",
       "  <thead>\n",
       "    <tr style=\"text-align: right;\">\n",
       "      <th></th>\n",
       "      <th>STATION</th>\n",
       "      <th>ENTRIES</th>\n",
       "      <th>PREV_ENTRIES</th>\n",
       "      <th>TTL_ENTRIES_MONTH</th>\n",
       "    </tr>\n",
       "  </thead>\n",
       "  <tbody>\n",
       "    <tr>\n",
       "      <th>341</th>\n",
       "      <td>ST. GEORGE</td>\n",
       "      <td>3256282892</td>\n",
       "      <td>3.256781e+09</td>\n",
       "      <td>1135775.0</td>\n",
       "    </tr>\n",
       "    <tr>\n",
       "      <th>349</th>\n",
       "      <td>THIRTY THIRD ST</td>\n",
       "      <td>311588113</td>\n",
       "      <td>3.117015e+08</td>\n",
       "      <td>1262085.0</td>\n",
       "    </tr>\n",
       "    <tr>\n",
       "      <th>350</th>\n",
       "      <td>TIMES SQ-42 ST</td>\n",
       "      <td>157551986492</td>\n",
       "      <td>1.575511e+11</td>\n",
       "      <td>2510090.0</td>\n",
       "    </tr>\n",
       "    <tr>\n",
       "      <th>360</th>\n",
       "      <td>W 4 ST-WASH SQ</td>\n",
       "      <td>6850002463</td>\n",
       "      <td>6.848943e+09</td>\n",
       "      <td>1059801.0</td>\n",
       "    </tr>\n",
       "    <tr>\n",
       "      <th>363</th>\n",
       "      <td>WALL ST</td>\n",
       "      <td>17641026472</td>\n",
       "      <td>1.764009e+10</td>\n",
       "      <td>940291.0</td>\n",
       "    </tr>\n",
       "  </tbody>\n",
       "</table>\n",
       "</div>"
      ],
      "text/plain": [
       "             STATION       ENTRIES  PREV_ENTRIES  TTL_ENTRIES_MONTH\n",
       "341       ST. GEORGE    3256282892  3.256781e+09          1135775.0\n",
       "349  THIRTY THIRD ST     311588113  3.117015e+08          1262085.0\n",
       "350   TIMES SQ-42 ST  157551986492  1.575511e+11          2510090.0\n",
       "360   W 4 ST-WASH SQ    6850002463  6.848943e+09          1059801.0\n",
       "363          WALL ST   17641026472  1.764009e+10           940291.0"
      ]
     },
     "execution_count": 100,
     "metadata": {},
     "output_type": "execute_result"
    }
   ],
   "source": [
    "top_10_may18_df.tail()"
   ]
  },
  {
   "cell_type": "code",
   "execution_count": 147,
   "metadata": {},
   "outputs": [
    {
     "data": {
      "image/png": "[encoded data removed]",
      "text/plain": [
       "<Figure size 432x288 with 1 Axes>"
      ]
     },
     "metadata": {
      "needs_background": "light"
     },
     "output_type": "display_data"
    }
   ],
   "source": [
    "plot = sns.barplot(x = 'STATION', y = 'TTL_ENTRIES_MONTH', data = top_10_may18_df)\n",
    "plt.title('Top 10% Total Entries per MTA Station in May 2018')\n",
    "plot.axes.get_xaxis().set_ticks([])\n",
    "plt.savefig(\"total_entries_May18_10percent.svg\")"
   ]
  },
  {
   "cell_type": "code",
   "execution_count": null,
   "metadata": {},
   "outputs": [],
   "source": []
  },
  {
   "cell_type": "code",
   "execution_count": 106,
   "metadata": {},
   "outputs": [],
   "source": [
    "top_5pcnt_may18 = may18_entries['TTL_ENTRIES_MONTH'].quantile(.95)"
   ]
  },
  {
   "cell_type": "code",
   "execution_count": 148,
   "metadata": {},
   "outputs": [
    {
     "data": {
      "image/png": "[encoded data removed]",
      "text/plain": [
       "<Figure size 432x288 with 1 Axes>"
      ]
     },
     "metadata": {
      "needs_background": "light"
     },
     "output_type": "display_data"
    }
   ],
   "source": [
    "plot = sns.barplot(x = 'STATION', y = 'TTL_ENTRIES_MONTH', data = may18_entries)\n",
    "plt.title('Total Entries per MTA Station in May 2018')\n",
    "plot.axes.get_xaxis().set_ticks([])\n",
    "plt.axhline(y = top_5pcnt_may18)\n",
    "plt.savefig(\"total_entries_May18_5perhline.svg\")\n"
   ]
  },
  {
   "cell_type": "code",
   "execution_count": 108,
   "metadata": {},
   "outputs": [],
   "source": [
    "top_5_may18_df = may18_entries[may18_entries['TTL_ENTRIES_MONTH'] > top_5pcnt_may18]"
   ]
  },
  {
   "cell_type": "code",
   "execution_count": 111,
   "metadata": {},
   "outputs": [
    {
     "data": {
      "text/plain": [
       "[None,\n",
       " None,\n",
       " None,\n",
       " None,\n",
       " None,\n",
       " None,\n",
       " None,\n",
       " None,\n",
       " None,\n",
       " None,\n",
       " None,\n",
       " None,\n",
       " None,\n",
       " None,\n",
       " None,\n",
       " None,\n",
       " None,\n",
       " None,\n",
       " None,\n",
       " None,\n",
       " None,\n",
       " None,\n",
       " None,\n",
       " None,\n",
       " None,\n",
       " None,\n",
       " None,\n",
       " None,\n",
       " None,\n",
       " None,\n",
       " None,\n",
       " None,\n",
       " None,\n",
       " None,\n",
       " None,\n",
       " None,\n",
       " None,\n",
       " None]"
      ]
     },
     "execution_count": 111,
     "metadata": {},
     "output_type": "execute_result"
    },
    {
     "data": {
      "image/png": "[encoded data removed]",
      "text/plain": [
       "<Figure size 432x288 with 1 Axes>"
      ]
     },
     "metadata": {
      "needs_background": "light"
     },
     "output_type": "display_data"
    }
   ],
   "source": [
    "plot = sns.barplot(x = 'STATION', y = 'TTL_ENTRIES_MONTH', data = top_5_may18_df)\n",
    "plt.title('Top %5 Total Entries per MTA Station in May 2018')\n",
    "plt.setp(plot.get_xticklabels(), rotation=90)"
   ]
  },
  {
   "cell_type": "code",
   "execution_count": 118,
   "metadata": {},
   "outputs": [],
   "source": [
    "top_5_may18_df = top_5_may18_df.sort_values('TTL_ENTRIES_MONTH')\n"
   ]
  },
  {
   "cell_type": "code",
   "execution_count": 149,
   "metadata": {},
   "outputs": [
    {
     "data": {
      "image/png": "[encoded data removed]",
      "text/plain": [
       "<Figure size 432x288 with 1 Axes>"
      ]
     },
     "metadata": {
      "needs_background": "light"
     },
     "output_type": "display_data"
    }
   ],
   "source": [
    "plot = sns.barplot(x = 'STATION', y = 'TTL_ENTRIES_MONTH', data = top_5_may18_df)\n",
    "plt.title('Top %5 Total Entries per MTA Station in May 2018')\n",
    "plt.setp(plot.get_xticklabels(), rotation=90)\n",
    "plt.savefig(\"total_entries_May18_5percent.svg\")\n"
   ]
  },
  {
   "cell_type": "code",
   "execution_count": null,
   "metadata": {},
   "outputs": [],
   "source": []
  },
  {
   "cell_type": "code",
   "execution_count": 109,
   "metadata": {},
   "outputs": [
    {
     "data": {
      "text/plain": [
       "19"
      ]
     },
     "execution_count": 109,
     "metadata": {},
     "output_type": "execute_result"
    }
   ],
   "source": [
    "len(top_5_may18_df)"
   ]
  },
  {
   "cell_type": "code",
   "execution_count": 57,
   "metadata": {},
   "outputs": [],
   "source": [
    "#Exits\n",
    "may18_turnstiles_daily_exits = may18_turnstiles.groupby([\"C/A\", \"UNIT\", \"SCP\", \"STATION\", \"DATE\"])\\\n",
    ".EXITS.first().reset_index()"
   ]
  },
  {
   "cell_type": "code",
   "execution_count": 79,
   "metadata": {},
   "outputs": [
    {
     "data": {
      "text/html": [
       "<div>\n",
       "<style scoped>\n",
       "    .dataframe tbody tr th:only-of-type {\n",
       "        vertical-align: middle;\n",
       "    }\n",
       "\n",
       "    .dataframe tbody tr th {\n",
       "        vertical-align: top;\n",
       "    }\n",
       "\n",
       "    .dataframe thead th {\n",
       "        text-align: right;\n",
       "    }\n",
       "</style>\n",
       "<table border=\"1\" class=\"dataframe\">\n",
       "  <thead>\n",
       "    <tr style=\"text-align: right;\">\n",
       "      <th></th>\n",
       "      <th>C/A</th>\n",
       "      <th>UNIT</th>\n",
       "      <th>SCP</th>\n",
       "      <th>STATION</th>\n",
       "      <th>DATE</th>\n",
       "      <th>EXITS</th>\n",
       "      <th>PREV_DATE</th>\n",
       "      <th>PREV_EXITS</th>\n",
       "      <th>DAILY_EXITS</th>\n",
       "    </tr>\n",
       "  </thead>\n",
       "  <tbody>\n",
       "    <tr>\n",
       "      <th>1</th>\n",
       "      <td>A002</td>\n",
       "      <td>R051</td>\n",
       "      <td>02-00-00</td>\n",
       "      <td>59 ST</td>\n",
       "      <td>04/29/2018</td>\n",
       "      <td>2236102</td>\n",
       "      <td>04/28/2018</td>\n",
       "      <td>2235829.0</td>\n",
       "      <td>273.0</td>\n",
       "    </tr>\n",
       "    <tr>\n",
       "      <th>2</th>\n",
       "      <td>A002</td>\n",
       "      <td>R051</td>\n",
       "      <td>02-00-00</td>\n",
       "      <td>59 ST</td>\n",
       "      <td>04/30/2018</td>\n",
       "      <td>2236301</td>\n",
       "      <td>04/29/2018</td>\n",
       "      <td>2236102.0</td>\n",
       "      <td>199.0</td>\n",
       "    </tr>\n",
       "    <tr>\n",
       "      <th>3</th>\n",
       "      <td>A002</td>\n",
       "      <td>R051</td>\n",
       "      <td>02-00-00</td>\n",
       "      <td>59 ST</td>\n",
       "      <td>05/01/2018</td>\n",
       "      <td>2236852</td>\n",
       "      <td>04/30/2018</td>\n",
       "      <td>2236301.0</td>\n",
       "      <td>551.0</td>\n",
       "    </tr>\n",
       "    <tr>\n",
       "      <th>4</th>\n",
       "      <td>A002</td>\n",
       "      <td>R051</td>\n",
       "      <td>02-00-00</td>\n",
       "      <td>59 ST</td>\n",
       "      <td>05/02/2018</td>\n",
       "      <td>2237420</td>\n",
       "      <td>05/01/2018</td>\n",
       "      <td>2236852.0</td>\n",
       "      <td>568.0</td>\n",
       "    </tr>\n",
       "    <tr>\n",
       "      <th>5</th>\n",
       "      <td>A002</td>\n",
       "      <td>R051</td>\n",
       "      <td>02-00-00</td>\n",
       "      <td>59 ST</td>\n",
       "      <td>05/03/2018</td>\n",
       "      <td>2237975</td>\n",
       "      <td>05/02/2018</td>\n",
       "      <td>2237420.0</td>\n",
       "      <td>555.0</td>\n",
       "    </tr>\n",
       "  </tbody>\n",
       "</table>\n",
       "</div>"
      ],
      "text/plain": [
       "    C/A  UNIT       SCP STATION        DATE    EXITS   PREV_DATE  PREV_EXITS  \\\n",
       "1  A002  R051  02-00-00   59 ST  04/29/2018  2236102  04/28/2018   2235829.0   \n",
       "2  A002  R051  02-00-00   59 ST  04/30/2018  2236301  04/29/2018   2236102.0   \n",
       "3  A002  R051  02-00-00   59 ST  05/01/2018  2236852  04/30/2018   2236301.0   \n",
       "4  A002  R051  02-00-00   59 ST  05/02/2018  2237420  05/01/2018   2236852.0   \n",
       "5  A002  R051  02-00-00   59 ST  05/03/2018  2237975  05/02/2018   2237420.0   \n",
       "\n",
       "   DAILY_EXITS  \n",
       "1        273.0  \n",
       "2        199.0  \n",
       "3        551.0  \n",
       "4        568.0  \n",
       "5        555.0  "
      ]
     },
     "execution_count": 79,
     "metadata": {},
     "output_type": "execute_result"
    }
   ],
   "source": [
    "may18_turnstiles_daily_exits.head()"
   ]
  },
  {
   "cell_type": "code",
   "execution_count": 60,
   "metadata": {},
   "outputs": [],
   "source": [
    "may18_turnstiles_daily_exits[[\"PREV_DATE\", \"PREV_EXITS\"]] = (may18_turnstiles_daily_exits\n",
    "                                                       .groupby([\"C/A\", \"UNIT\", \"SCP\", \"STATION\"])[\"DATE\", \"EXITS\"]\n",
    "                                                       .transform(lambda grp: grp.shift(1)))"
   ]
  },
  {
   "cell_type": "code",
   "execution_count": 65,
   "metadata": {},
   "outputs": [],
   "source": [
    "def get_daily_counts_exits(row, max_counter):\n",
    "    counter = row[\"EXITS\"] - row[\"PREV_EXITS\"]\n",
    "    if counter < 0:\n",
    "        counter = -counter\n",
    "    if counter > max_counter:\n",
    "        return 0\n",
    "    return counter"
   ]
  },
  {
   "cell_type": "code",
   "execution_count": 66,
   "metadata": {},
   "outputs": [],
   "source": [
    "may18_turnstiles_daily_exits[\"DAILY_EXITS\"] = may18_turnstiles_daily_exits.apply(get_daily_counts_exits, axis=1, max_counter=1000000) "
   ]
  },
  {
   "cell_type": "code",
   "execution_count": 83,
   "metadata": {},
   "outputs": [
    {
     "data": {
      "text/html": [
       "<div>\n",
       "<style scoped>\n",
       "    .dataframe tbody tr th:only-of-type {\n",
       "        vertical-align: middle;\n",
       "    }\n",
       "\n",
       "    .dataframe tbody tr th {\n",
       "        vertical-align: top;\n",
       "    }\n",
       "\n",
       "    .dataframe thead th {\n",
       "        text-align: right;\n",
       "    }\n",
       "</style>\n",
       "<table border=\"1\" class=\"dataframe\">\n",
       "  <thead>\n",
       "    <tr style=\"text-align: right;\">\n",
       "      <th></th>\n",
       "      <th>STATION</th>\n",
       "      <th>EXITS</th>\n",
       "      <th>PREV_EXITS</th>\n",
       "      <th>TTL_EXITS_MONTH</th>\n",
       "    </tr>\n",
       "  </thead>\n",
       "  <tbody>\n",
       "    <tr>\n",
       "      <th>59</th>\n",
       "      <td>34 ST-PENN STA</td>\n",
       "      <td>79424797426</td>\n",
       "      <td>7.942232e+10</td>\n",
       "      <td>4190124.0</td>\n",
       "    </tr>\n",
       "    <tr>\n",
       "      <th>230</th>\n",
       "      <td>GRD CNTRL-42 ST</td>\n",
       "      <td>58382808240</td>\n",
       "      <td>5.838207e+10</td>\n",
       "      <td>3877164.0</td>\n",
       "    </tr>\n",
       "    <tr>\n",
       "      <th>57</th>\n",
       "      <td>34 ST-HERALD SQ</td>\n",
       "      <td>196034417452</td>\n",
       "      <td>1.960322e+11</td>\n",
       "      <td>2989272.0</td>\n",
       "    </tr>\n",
       "    <tr>\n",
       "      <th>350</th>\n",
       "      <td>TIMES SQ-42 ST</td>\n",
       "      <td>122877247587</td>\n",
       "      <td>1.228756e+11</td>\n",
       "      <td>2947040.0</td>\n",
       "    </tr>\n",
       "    <tr>\n",
       "      <th>255</th>\n",
       "      <td>JOURNAL SQUARE</td>\n",
       "      <td>217766658</td>\n",
       "      <td>2.177572e+08</td>\n",
       "      <td>2694815.0</td>\n",
       "    </tr>\n",
       "    <tr>\n",
       "      <th>14</th>\n",
       "      <td>14 ST-UNION SQ</td>\n",
       "      <td>8044988000</td>\n",
       "      <td>8.043095e+09</td>\n",
       "      <td>2613922.0</td>\n",
       "    </tr>\n",
       "    <tr>\n",
       "      <th>45</th>\n",
       "      <td>23 ST</td>\n",
       "      <td>200737617514</td>\n",
       "      <td>2.007357e+11</td>\n",
       "      <td>2040807.0</td>\n",
       "    </tr>\n",
       "    <tr>\n",
       "      <th>65</th>\n",
       "      <td>42 ST-PORT AUTH</td>\n",
       "      <td>167192064660</td>\n",
       "      <td>1.671903e+11</td>\n",
       "      <td>1892189.0</td>\n",
       "    </tr>\n",
       "    <tr>\n",
       "      <th>223</th>\n",
       "      <td>FULTON ST</td>\n",
       "      <td>117828641330</td>\n",
       "      <td>1.178268e+11</td>\n",
       "      <td>1863740.0</td>\n",
       "    </tr>\n",
       "    <tr>\n",
       "      <th>107</th>\n",
       "      <td>86 ST</td>\n",
       "      <td>69191000705</td>\n",
       "      <td>6.919774e+10</td>\n",
       "      <td>1738058.0</td>\n",
       "    </tr>\n",
       "  </tbody>\n",
       "</table>\n",
       "</div>"
      ],
      "text/plain": [
       "             STATION         EXITS    PREV_EXITS  TTL_EXITS_MONTH\n",
       "59    34 ST-PENN STA   79424797426  7.942232e+10        4190124.0\n",
       "230  GRD CNTRL-42 ST   58382808240  5.838207e+10        3877164.0\n",
       "57   34 ST-HERALD SQ  196034417452  1.960322e+11        2989272.0\n",
       "350   TIMES SQ-42 ST  122877247587  1.228756e+11        2947040.0\n",
       "255   JOURNAL SQUARE     217766658  2.177572e+08        2694815.0\n",
       "14    14 ST-UNION SQ    8044988000  8.043095e+09        2613922.0\n",
       "45             23 ST  200737617514  2.007357e+11        2040807.0\n",
       "65   42 ST-PORT AUTH  167192064660  1.671903e+11        1892189.0\n",
       "223        FULTON ST  117828641330  1.178268e+11        1863740.0\n",
       "107            86 ST   69191000705  6.919774e+10        1738058.0"
      ]
     },
     "execution_count": 83,
     "metadata": {},
     "output_type": "execute_result"
    }
   ],
   "source": [
    "may18_turnstiles_daily_exits = may18_turnstiles_daily_exits.dropna()\n",
    "#month of May 18 daily exits\n",
    "may18_exits = may18_turnstiles_daily_exits.groupby('STATION').sum().reset_index()\n",
    "may18_exits.rename(columns = {'DAILY_EXITS':'TTL_EXITS_MONTH'}, inplace = True)\n",
    "may18_exits.sort_values('TTL_EXITS_MONTH', ascending = False ).head(10)"
   ]
  },
  {
   "cell_type": "code",
   "execution_count": 95,
   "metadata": {},
   "outputs": [],
   "source": [
    "top_10pcnt_may18_exits = may18_exits['TTL_EXITS_MONTH'].quantile(.9)"
   ]
  },
  {
   "cell_type": "code",
   "execution_count": null,
   "metadata": {},
   "outputs": [],
   "source": []
  },
  {
   "cell_type": "code",
   "execution_count": 150,
   "metadata": {},
   "outputs": [
    {
     "data": {
      "image/png": "[encoded data removed]",
      "text/plain": [
       "<Figure size 432x288 with 1 Axes>"
      ]
     },
     "metadata": {
      "needs_background": "light"
     },
     "output_type": "display_data"
    }
   ],
   "source": [
    "plot = sns.barplot(x = 'STATION', y = 'TTL_EXITS_MONTH', data = may18_exits)\n",
    "plt.title('Total EXITS per MTA Station in May 2018')\n",
    "plot.axes.get_xaxis().set_visible(False)\n",
    "plt.axhline(y = top_10pcnt_may18)\n",
    "plt.savefig(\"total_exits_May18_10perhline.svg\")"
   ]
  },
  {
   "cell_type": "code",
   "execution_count": 122,
   "metadata": {},
   "outputs": [],
   "source": [
    "top_10pcnt_may18_exits = may18_exits['TTL_EXITS_MONTH'].quantile(.9)"
   ]
  },
  {
   "cell_type": "code",
   "execution_count": 128,
   "metadata": {},
   "outputs": [],
   "source": [
    "top_10_may18_exits = may18_exits[may18_exits['TTL_EXITS_MONTH'] > top_10pcnt_may18_exits]"
   ]
  },
  {
   "cell_type": "code",
   "execution_count": 151,
   "metadata": {},
   "outputs": [
    {
     "data": {
      "image/png": "[encoded data removed]",
      "text/plain": [
       "<Figure size 432x288 with 1 Axes>"
      ]
     },
     "metadata": {
      "needs_background": "light"
     },
     "output_type": "display_data"
    }
   ],
   "source": [
    "plot = sns.barplot(x = 'STATION', y = 'TTL_EXITS_MONTH', data = top_10_may18_exits)\n",
    "plt.title('Top 10% Total EXITS per MTA Station in May 2018')\n",
    "plot.axes.get_xaxis().set_ticks([])\n",
    "plt.savefig(\"total_exits_May18_10percent.svg\")\n"
   ]
  },
  {
   "cell_type": "code",
   "execution_count": 130,
   "metadata": {},
   "outputs": [],
   "source": [
    "top_5pcnt_may18_exits = may18_exits['TTL_EXITS_MONTH'].quantile(.95)"
   ]
  },
  {
   "cell_type": "code",
   "execution_count": 153,
   "metadata": {},
   "outputs": [
    {
     "data": {
      "image/png": "[encoded data removed]",
      "text/plain": [
       "<Figure size 432x288 with 1 Axes>"
      ]
     },
     "metadata": {
      "needs_background": "light"
     },
     "output_type": "display_data"
    }
   ],
   "source": [
    "plot = sns.barplot(x = 'STATION', y = 'TTL_EXITS_MONTH', data = may18_exits)\n",
    "plt.title('Top 5% Total EXITS per MTA Station in May 2018')\n",
    "plot.axes.get_xaxis().set_ticks([])\n",
    "plt.axhline(y = top_5pcnt_may18_exits)\n",
    "\n",
    "plt.savefig(\"total_exits_May18_5perhline.svg\")"
   ]
  },
  {
   "cell_type": "code",
   "execution_count": 138,
   "metadata": {},
   "outputs": [],
   "source": [
    "top_5_may18_exits = may18_exits[may18_exits['TTL_EXITS_MONTH'] > top_5pcnt_may18_exits].sort_values('TTL_EXITS_MONTH')"
   ]
  },
  {
   "cell_type": "code",
   "execution_count": null,
   "metadata": {},
   "outputs": [],
   "source": []
  },
  {
   "cell_type": "code",
   "execution_count": 154,
   "metadata": {},
   "outputs": [
    {
     "data": {
      "image/png": "[encoded data removed]",
      "text/plain": [
       "<Figure size 432x288 with 1 Axes>"
      ]
     },
     "metadata": {
      "needs_background": "light"
     },
     "output_type": "display_data"
    }
   ],
   "source": [
    "plot = sns.barplot(x = 'STATION', y = 'TTL_EXITS_MONTH', data = top_5_may18_exits)\n",
    "plt.title('Top 5% Total EXITS per MTA Station in May 2018')\n",
    "plt.setp(plot.get_xticklabels(), rotation=90)\n",
    "plt.savefig(\"total_exits_May18_5percent.svg\")"
   ]
  },
  {
   "cell_type": "code",
   "execution_count": 10,
   "metadata": {},
   "outputs": [],
   "source": [
    "#want lineplot with each station per day of the week for May"
   ]
  },
  {
   "cell_type": "code",
   "execution_count": null,
   "metadata": {},
   "outputs": [],
   "source": [
    "#save svg files to github"
   ]
  },
  {
   "cell_type": "code",
   "execution_count": null,
   "metadata": {},
   "outputs": [],
   "source": [
    "#drop duplicate column\n"
   ]
  }
 ],
 "metadata": {
  "kernelspec": {
   "display_name": "Python 3",
   "language": "python",
   "name": "python3"
  },
  "language_info": {
   "codemirror_mode": {
    "name": "ipython",
    "version": 3
   },
   "file_extension": ".py",
   "mimetype": "text/x-python",
   "name": "python",
   "nbconvert_exporter": "python",
   "pygments_lexer": "ipython3",
   "version": "3.6.6"
  }
 },
 "nbformat": 4,
 "nbformat_minor": 2
}
